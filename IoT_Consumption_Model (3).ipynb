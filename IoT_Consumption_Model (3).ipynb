{
  "cells": [
    {
      "cell_type": "code",
      "execution_count": 1,
      "metadata": {
        "colab": {
          "base_uri": "https://localhost:8080/"
        },
        "id": "CiZaOgNaMc5J",
        "outputId": "11321985-0b01-45df-dbf0-774e543fc875"
      },
      "outputs": [
        {
          "name": "stdout",
          "output_type": "stream",
          "text": [
            "--2023-05-08 20:00:37--  https://lass.cs.umass.edu/smarttraces/2017/HomeC-electrical.tar.gz\n",
            "Resolving lass.cs.umass.edu (lass.cs.umass.edu)... 128.119.245.5\n",
            "Connecting to lass.cs.umass.edu (lass.cs.umass.edu)|128.119.245.5|:443... connected.\n",
            "HTTP request sent, awaiting response... 200 OK\n",
            "Length: 29233308 (28M) [application/x-gzip]\n",
            "Saving to: ‘HomeC-electrical.tar.gz’\n",
            "\n",
            "HomeC-electrical.ta 100%[===================>]  27.88M  32.9MB/s    in 0.8s    \n",
            "\n",
            "2023-05-08 20:00:38 (32.9 MB/s) - ‘HomeC-electrical.tar.gz’ saved [29233308/29233308]\n",
            "\n"
          ]
        }
      ],
      "source": [
        "\n",
        "\n",
        "!pip install wget\n",
        "import wget\n",
        "url = 'https://lass.cs.umass.edu/smarttraces/2017/HomeC-electrical.tar.gz'\n",
        "filename = wget.download(url)\n",
        "print(filename)"
      ]
    },
    {
      "cell_type": "code",
      "execution_count": 2,
      "metadata": {
        "colab": {
          "base_uri": "https://localhost:8080/"
        },
        "id": "48h7nmpjMoiA",
        "outputId": "60de8cf7-7a6e-4a88-83d7-c1f273040399"
      },
      "outputs": [
        {
          "name": "stdout",
          "output_type": "stream",
          "text": [
            "HomeC/\n",
            "HomeC/2016/\n",
            "HomeC/2016/SUMMARY_HomeC-meter2.txt\n",
            "HomeC/2016/HomeC-meter2_2016.csv\n",
            "HomeC/2016/SUMMARY_HomeC-meter1.txt\n",
            "HomeC/2016/HomeC-meter1_2016.csv\n",
            "HomeC/2014/\n",
            "HomeC/2014/SUMMARY_HomeC-meter2.txt\n",
            "HomeC/2014/HomeC-meter1_2014.csv\n",
            "HomeC/2014/SUMMARY_HomeC-meter1.txt\n",
            "HomeC/2014/HomeC-meter2_2014.csv\n",
            "HomeC/2015/\n",
            "HomeC/2015/SUMMARY_HomeC-meter2.txt\n",
            "HomeC/2015/HomeC-meter1_2015.csv\n",
            "HomeC/2015/SUMMARY_HomeC-meter1.txt\n",
            "HomeC/2015/HomeC-meter2_2015.csv\n"
          ]
        }
      ],
      "source": [
        "# unzip\n",
        "!tar -xvf HomeC-electrical.tar.gz"
      ]
    },
    {
      "cell_type": "code",
      "execution_count": 3,
      "metadata": {
        "id": "FqCnjw5zP0jZ"
      },
      "outputs": [],
      "source": [
        "\n",
        "import pandas as pd\n",
        "import numpy as np\n",
        "from keras.models import Sequential\n",
        "from keras.layers import Dense\n",
        "from keras.layers import LSTM\n",
        "from sklearn.preprocessing import MinMaxScaler\n"
      ]
    },
    {
      "cell_type": "code",
      "execution_count": 4,
      "metadata": {
        "id": "0GI9urCMRiUo"
      },
      "outputs": [],
      "source": [
        "import warnings\n",
        "warnings.filterwarnings('ignore')"
      ]
    },
    {
      "cell_type": "code",
      "execution_count": 5,
      "metadata": {
        "id": "ZLS74MOLq0VM"
      },
      "outputs": [],
      "source": [
        "\n",
        "data_path = 'HomeC/'"
      ]
    },
    {
      "cell_type": "code",
      "execution_count": 6,
      "metadata": {
        "id": "PHo1EcgYXDET"
      },
      "outputs": [],
      "source": [
        "\n",
        "data_1 = pd.read_csv(data_path + '2014/HomeC-meter1_2014.csv')\n",
        "data_2 = pd.read_csv(data_path + '2014/HomeC-meter2_2014.csv')\n"
      ]
    },
    {
      "cell_type": "code",
      "execution_count": 7,
      "metadata": {
        "colab": {
          "base_uri": "https://localhost:8080/"
        },
        "id": "hz13Iq4kXEGW",
        "outputId": "af12e0f4-d4e0-440c-d0cb-886153d74c0d"
      },
      "outputs": [
        {
          "data": {
            "text/plain": [
              "Index(['Date & Time', 'use [kW]', 'gen [kW]', 'House overall [kW]',\n",
              "       'Dishwasher [kW]', 'Furnace 1 [kW]', 'Furnace 2 [kW]',\n",
              "       'Home office [kW]', 'Fridge [kW]', 'Wine cellar [kW]',\n",
              "       'Garage door [kW]', 'Kitchen 12 [kW]', 'Kitchen 14 [kW]',\n",
              "       'Kitchen 38 [kW]', 'Barn [kW]', 'Well [kW]', 'Microwave [kW]',\n",
              "       'Living room [kW]', 'Solar [kW]'],\n",
              "      dtype='object')"
            ]
          },
          "execution_count": 7,
          "metadata": {},
          "output_type": "execute_result"
        }
      ],
      "source": [
        "data_1.columns"
      ]
    },
    {
      "cell_type": "code",
      "execution_count": 8,
      "metadata": {
        "colab": {
          "base_uri": "https://localhost:8080/"
        },
        "id": "JHg8fK-5XLyM",
        "outputId": "c6eb76bc-9ddd-40b2-df3d-11b23ce47e4a"
      },
      "outputs": [
        {
          "data": {
            "text/plain": [
              "Index(['Date & Time', 'use [kW]', 'gen [kW]', 'LivingRoomOutlets [kW]',\n",
              "       'Barn [kW]', 'Well [kW]', 'Microwave [kW]', 'WasherDrier [kW]',\n",
              "       'Solar [kW]'],\n",
              "      dtype='object')"
            ]
          },
          "execution_count": 8,
          "metadata": {},
          "output_type": "execute_result"
        }
      ],
      "source": [
        "data_2.columns"
      ]
    },
    {
      "cell_type": "code",
      "execution_count": 9,
      "metadata": {
        "id": "wbHavwhtZCc-"
      },
      "outputs": [],
      "source": [
        "data_3 = pd.read_csv(data_path + '2015/HomeC-meter1_2015.csv')\n",
        "data_4 = pd.read_csv(data_path + '2015/HomeC-meter2_2015.csv')"
      ]
    },
    {
      "cell_type": "code",
      "execution_count": 10,
      "metadata": {
        "colab": {
          "base_uri": "https://localhost:8080/"
        },
        "id": "NkiVRPvrZDeF",
        "outputId": "b721de60-e98e-4ac4-dea8-8805aea94c8a"
      },
      "outputs": [
        {
          "data": {
            "text/plain": [
              "Index(['Date & Time', 'use [kW]', 'gen [kW]', 'House overall [kW]',\n",
              "       'Dishwasher [kW]', 'Furnace 1 [kW]', 'Furnace 2 [kW]',\n",
              "       'Home office [kW]', 'Fridge [kW]', 'Wine cellar [kW]',\n",
              "       'Garage door [kW]', 'Kitchen 12 [kW]', 'Kitchen 14 [kW]',\n",
              "       'Kitchen 38 [kW]', 'Barn [kW]', 'Well [kW]', 'Microwave [kW]',\n",
              "       'Living room [kW]', 'Solar [kW]'],\n",
              "      dtype='object')"
            ]
          },
          "execution_count": 10,
          "metadata": {},
          "output_type": "execute_result"
        }
      ],
      "source": [
        "data_3.columns"
      ]
    },
    {
      "cell_type": "code",
      "execution_count": 11,
      "metadata": {
        "colab": {
          "base_uri": "https://localhost:8080/"
        },
        "id": "X0A9u3WWZGrr",
        "outputId": "73416a25-3cc5-4505-b2f6-9d7267c5d870"
      },
      "outputs": [
        {
          "data": {
            "text/plain": [
              "Index(['Date & Time', 'use [kW]', 'gen [kW]', 'LivingRoomOutlets [kW]',\n",
              "       'Barn [kW]', 'Well [kW]', 'Microwave [kW]', 'WasherDrier [kW]',\n",
              "       'Solar [kW]'],\n",
              "      dtype='object')"
            ]
          },
          "execution_count": 11,
          "metadata": {},
          "output_type": "execute_result"
        }
      ],
      "source": [
        "data_4.columns"
      ]
    },
    {
      "cell_type": "code",
      "execution_count": 12,
      "metadata": {
        "id": "54UgIGBYP296"
      },
      "outputs": [],
      "source": [
        "\n",
        "\n",
        "# load data\n",
        "def load_data(path):\n",
        "    data = []\n",
        "    for year in range(2014, 2017):\n",
        "        for meter in range(1, 3):\n",
        "            file_path = path + str(year) + '/HomeC-meter1_' + str(year) + '.csv'\n",
        "            data.append(pd.read_csv(file_path))\n",
        "    return data\n",
        "\n",
        "data = load_data(data_path)\n"
      ]
    },
    {
      "cell_type": "code",
      "execution_count": 13,
      "metadata": {
        "colab": {
          "base_uri": "https://localhost:8080/",
          "height": 354
        },
        "id": "6JeJvw_oQ-CJ",
        "outputId": "0e5b0660-c4e7-4b9b-aa92-19ceef3d1eaf"
      },
      "outputs": [
        {
          "data": {
            "text/html": [
              "\n",
              "  <div id=\"df-68ddfca2-8e9a-4556-b6d1-e6423400b680\">\n",
              "    <div class=\"colab-df-container\">\n",
              "      <div>\n",
              "<style scoped>\n",
              "    .dataframe tbody tr th:only-of-type {\n",
              "        vertical-align: middle;\n",
              "    }\n",
              "\n",
              "    .dataframe tbody tr th {\n",
              "        vertical-align: top;\n",
              "    }\n",
              "\n",
              "    .dataframe thead th {\n",
              "        text-align: right;\n",
              "    }\n",
              "</style>\n",
              "<table border=\"1\" class=\"dataframe\">\n",
              "  <thead>\n",
              "    <tr style=\"text-align: right;\">\n",
              "      <th></th>\n",
              "      <th>Date &amp; Time</th>\n",
              "      <th>use [kW]</th>\n",
              "      <th>gen [kW]</th>\n",
              "      <th>House overall [kW]</th>\n",
              "      <th>Dishwasher [kW]</th>\n",
              "      <th>Furnace 1 [kW]</th>\n",
              "      <th>Furnace 2 [kW]</th>\n",
              "      <th>Home office [kW]</th>\n",
              "      <th>Fridge [kW]</th>\n",
              "      <th>Wine cellar [kW]</th>\n",
              "      <th>Garage door [kW]</th>\n",
              "      <th>Kitchen 12 [kW]</th>\n",
              "      <th>Kitchen 14 [kW]</th>\n",
              "      <th>Kitchen 38 [kW]</th>\n",
              "      <th>Barn [kW]</th>\n",
              "      <th>Well [kW]</th>\n",
              "      <th>Microwave [kW]</th>\n",
              "      <th>Living room [kW]</th>\n",
              "      <th>Solar [kW]</th>\n",
              "    </tr>\n",
              "  </thead>\n",
              "  <tbody>\n",
              "    <tr>\n",
              "      <th>0</th>\n",
              "      <td>2014-01-01 00:00:00</td>\n",
              "      <td>2.108589</td>\n",
              "      <td>0.004111</td>\n",
              "      <td>2.108589</td>\n",
              "      <td>0.000023</td>\n",
              "      <td>0.100391</td>\n",
              "      <td>0.063347</td>\n",
              "      <td>0.040204</td>\n",
              "      <td>0.136891</td>\n",
              "      <td>0.004294</td>\n",
              "      <td>0.009579</td>\n",
              "      <td>0.000168</td>\n",
              "      <td>0.000023</td>\n",
              "      <td>0.000003</td>\n",
              "      <td>0.087443</td>\n",
              "      <td>0.000116</td>\n",
              "      <td>0.003593</td>\n",
              "      <td>0.102349</td>\n",
              "      <td>0.004111</td>\n",
              "    </tr>\n",
              "    <tr>\n",
              "      <th>1</th>\n",
              "      <td>2014-01-01 00:30:00</td>\n",
              "      <td>1.828066</td>\n",
              "      <td>0.004040</td>\n",
              "      <td>1.828066</td>\n",
              "      <td>0.000059</td>\n",
              "      <td>0.170241</td>\n",
              "      <td>0.063181</td>\n",
              "      <td>0.039184</td>\n",
              "      <td>0.146551</td>\n",
              "      <td>0.004210</td>\n",
              "      <td>0.009384</td>\n",
              "      <td>0.000261</td>\n",
              "      <td>0.000126</td>\n",
              "      <td>0.000002</td>\n",
              "      <td>0.141680</td>\n",
              "      <td>0.079844</td>\n",
              "      <td>0.039922</td>\n",
              "      <td>0.038129</td>\n",
              "      <td>0.004040</td>\n",
              "    </tr>\n",
              "    <tr>\n",
              "      <th>2</th>\n",
              "      <td>2014-01-01 01:00:00</td>\n",
              "      <td>0.960618</td>\n",
              "      <td>0.004423</td>\n",
              "      <td>0.960618</td>\n",
              "      <td>0.000062</td>\n",
              "      <td>0.191079</td>\n",
              "      <td>0.129996</td>\n",
              "      <td>0.039070</td>\n",
              "      <td>0.063167</td>\n",
              "      <td>0.004314</td>\n",
              "      <td>0.009709</td>\n",
              "      <td>0.000547</td>\n",
              "      <td>0.000039</td>\n",
              "      <td>0.000004</td>\n",
              "      <td>0.035265</td>\n",
              "      <td>0.000556</td>\n",
              "      <td>0.003914</td>\n",
              "      <td>0.007687</td>\n",
              "      <td>0.004423</td>\n",
              "    </tr>\n",
              "    <tr>\n",
              "      <th>3</th>\n",
              "      <td>2014-01-01 01:30:00</td>\n",
              "      <td>0.956158</td>\n",
              "      <td>0.004581</td>\n",
              "      <td>0.956158</td>\n",
              "      <td>0.000056</td>\n",
              "      <td>0.227550</td>\n",
              "      <td>0.274561</td>\n",
              "      <td>0.039026</td>\n",
              "      <td>0.005300</td>\n",
              "      <td>0.004406</td>\n",
              "      <td>0.009844</td>\n",
              "      <td>0.000677</td>\n",
              "      <td>0.000034</td>\n",
              "      <td>0.000007</td>\n",
              "      <td>0.035409</td>\n",
              "      <td>0.000016</td>\n",
              "      <td>0.003287</td>\n",
              "      <td>0.004327</td>\n",
              "      <td>0.004581</td>\n",
              "    </tr>\n",
              "    <tr>\n",
              "      <th>4</th>\n",
              "      <td>2014-01-01 02:00:00</td>\n",
              "      <td>1.111968</td>\n",
              "      <td>0.004586</td>\n",
              "      <td>1.111968</td>\n",
              "      <td>0.000056</td>\n",
              "      <td>0.272573</td>\n",
              "      <td>0.376884</td>\n",
              "      <td>0.038959</td>\n",
              "      <td>0.005165</td>\n",
              "      <td>0.004447</td>\n",
              "      <td>0.009871</td>\n",
              "      <td>0.000669</td>\n",
              "      <td>0.000007</td>\n",
              "      <td>0.000008</td>\n",
              "      <td>0.035453</td>\n",
              "      <td>0.000017</td>\n",
              "      <td>0.003280</td>\n",
              "      <td>0.001753</td>\n",
              "      <td>0.004586</td>\n",
              "    </tr>\n",
              "  </tbody>\n",
              "</table>\n",
              "</div>\n",
              "      <button class=\"colab-df-convert\" onclick=\"convertToInteractive('df-68ddfca2-8e9a-4556-b6d1-e6423400b680')\"\n",
              "              title=\"Convert this dataframe to an interactive table.\"\n",
              "              style=\"display:none;\">\n",
              "        \n",
              "  <svg xmlns=\"http://www.w3.org/2000/svg\" height=\"24px\"viewBox=\"0 0 24 24\"\n",
              "       width=\"24px\">\n",
              "    <path d=\"M0 0h24v24H0V0z\" fill=\"none\"/>\n",
              "    <path d=\"M18.56 5.44l.94 2.06.94-2.06 2.06-.94-2.06-.94-.94-2.06-.94 2.06-2.06.94zm-11 1L8.5 8.5l.94-2.06 2.06-.94-2.06-.94L8.5 2.5l-.94 2.06-2.06.94zm10 10l.94 2.06.94-2.06 2.06-.94-2.06-.94-.94-2.06-.94 2.06-2.06.94z\"/><path d=\"M17.41 7.96l-1.37-1.37c-.4-.4-.92-.59-1.43-.59-.52 0-1.04.2-1.43.59L10.3 9.45l-7.72 7.72c-.78.78-.78 2.05 0 2.83L4 21.41c.39.39.9.59 1.41.59.51 0 1.02-.2 1.41-.59l7.78-7.78 2.81-2.81c.8-.78.8-2.07 0-2.86zM5.41 20L4 18.59l7.72-7.72 1.47 1.35L5.41 20z\"/>\n",
              "  </svg>\n",
              "      </button>\n",
              "      \n",
              "  <style>\n",
              "    .colab-df-container {\n",
              "      display:flex;\n",
              "      flex-wrap:wrap;\n",
              "      gap: 12px;\n",
              "    }\n",
              "\n",
              "    .colab-df-convert {\n",
              "      background-color: #E8F0FE;\n",
              "      border: none;\n",
              "      border-radius: 50%;\n",
              "      cursor: pointer;\n",
              "      display: none;\n",
              "      fill: #1967D2;\n",
              "      height: 32px;\n",
              "      padding: 0 0 0 0;\n",
              "      width: 32px;\n",
              "    }\n",
              "\n",
              "    .colab-df-convert:hover {\n",
              "      background-color: #E2EBFA;\n",
              "      box-shadow: 0px 1px 2px rgba(60, 64, 67, 0.3), 0px 1px 3px 1px rgba(60, 64, 67, 0.15);\n",
              "      fill: #174EA6;\n",
              "    }\n",
              "\n",
              "    [theme=dark] .colab-df-convert {\n",
              "      background-color: #3B4455;\n",
              "      fill: #D2E3FC;\n",
              "    }\n",
              "\n",
              "    [theme=dark] .colab-df-convert:hover {\n",
              "      background-color: #434B5C;\n",
              "      box-shadow: 0px 1px 3px 1px rgba(0, 0, 0, 0.15);\n",
              "      filter: drop-shadow(0px 1px 2px rgba(0, 0, 0, 0.3));\n",
              "      fill: #FFFFFF;\n",
              "    }\n",
              "  </style>\n",
              "\n",
              "      <script>\n",
              "        const buttonEl =\n",
              "          document.querySelector('#df-68ddfca2-8e9a-4556-b6d1-e6423400b680 button.colab-df-convert');\n",
              "        buttonEl.style.display =\n",
              "          google.colab.kernel.accessAllowed ? 'block' : 'none';\n",
              "\n",
              "        async function convertToInteractive(key) {\n",
              "          const element = document.querySelector('#df-68ddfca2-8e9a-4556-b6d1-e6423400b680');\n",
              "          const dataTable =\n",
              "            await google.colab.kernel.invokeFunction('convertToInteractive',\n",
              "                                                     [key], {});\n",
              "          if (!dataTable) return;\n",
              "\n",
              "          const docLinkHtml = 'Like what you see? Visit the ' +\n",
              "            '<a target=\"_blank\" href=https://colab.research.google.com/notebooks/data_table.ipynb>data table notebook</a>'\n",
              "            + ' to learn more about interactive tables.';\n",
              "          element.innerHTML = '';\n",
              "          dataTable['output_type'] = 'display_data';\n",
              "          await google.colab.output.renderOutput(dataTable, element);\n",
              "          const docLink = document.createElement('div');\n",
              "          docLink.innerHTML = docLinkHtml;\n",
              "          element.appendChild(docLink);\n",
              "        }\n",
              "      </script>\n",
              "    </div>\n",
              "  </div>\n",
              "  "
            ],
            "text/plain": [
              "           Date & Time  use [kW]  gen [kW]  House overall [kW]  \\\n",
              "0  2014-01-01 00:00:00  2.108589  0.004111            2.108589   \n",
              "1  2014-01-01 00:30:00  1.828066  0.004040            1.828066   \n",
              "2  2014-01-01 01:00:00  0.960618  0.004423            0.960618   \n",
              "3  2014-01-01 01:30:00  0.956158  0.004581            0.956158   \n",
              "4  2014-01-01 02:00:00  1.111968  0.004586            1.111968   \n",
              "\n",
              "   Dishwasher [kW]  Furnace 1 [kW]  Furnace 2 [kW]  Home office [kW]  \\\n",
              "0         0.000023        0.100391        0.063347          0.040204   \n",
              "1         0.000059        0.170241        0.063181          0.039184   \n",
              "2         0.000062        0.191079        0.129996          0.039070   \n",
              "3         0.000056        0.227550        0.274561          0.039026   \n",
              "4         0.000056        0.272573        0.376884          0.038959   \n",
              "\n",
              "   Fridge [kW]  Wine cellar [kW]  Garage door [kW]  Kitchen 12 [kW]  \\\n",
              "0     0.136891          0.004294          0.009579         0.000168   \n",
              "1     0.146551          0.004210          0.009384         0.000261   \n",
              "2     0.063167          0.004314          0.009709         0.000547   \n",
              "3     0.005300          0.004406          0.009844         0.000677   \n",
              "4     0.005165          0.004447          0.009871         0.000669   \n",
              "\n",
              "   Kitchen 14 [kW]  Kitchen 38 [kW]  Barn [kW]  Well [kW]  Microwave [kW]  \\\n",
              "0         0.000023         0.000003   0.087443   0.000116        0.003593   \n",
              "1         0.000126         0.000002   0.141680   0.079844        0.039922   \n",
              "2         0.000039         0.000004   0.035265   0.000556        0.003914   \n",
              "3         0.000034         0.000007   0.035409   0.000016        0.003287   \n",
              "4         0.000007         0.000008   0.035453   0.000017        0.003280   \n",
              "\n",
              "   Living room [kW]  Solar [kW]  \n",
              "0          0.102349    0.004111  \n",
              "1          0.038129    0.004040  \n",
              "2          0.007687    0.004423  \n",
              "3          0.004327    0.004581  \n",
              "4          0.001753    0.004586  "
            ]
          },
          "execution_count": 13,
          "metadata": {},
          "output_type": "execute_result"
        }
      ],
      "source": [
        "\n",
        "# convert data to pandas dataframe\n",
        "def convert_to_df(data):\n",
        "    df = pd.DataFrame()\n",
        "    for i in range(len(data)):\n",
        "        df = df.append(data[i])\n",
        "    return df\n",
        "\n",
        "dataset = convert_to_df(data)\n",
        "dataset.head()"
      ]
    },
    {
      "cell_type": "code",
      "execution_count": 14,
      "metadata": {
        "colab": {
          "base_uri": "https://localhost:8080/",
          "height": 379
        },
        "id": "JSAMxTrDRlz7",
        "outputId": "5ce990e7-55a3-432a-9ab0-9e23dc43ec6b"
      },
      "outputs": [
        {
          "data": {
            "text/html": [
              "\n",
              "  <div id=\"df-af1038e3-b547-4e40-b36d-9122b572e52d\">\n",
              "    <div class=\"colab-df-container\">\n",
              "      <div>\n",
              "<style scoped>\n",
              "    .dataframe tbody tr th:only-of-type {\n",
              "        vertical-align: middle;\n",
              "    }\n",
              "\n",
              "    .dataframe tbody tr th {\n",
              "        vertical-align: top;\n",
              "    }\n",
              "\n",
              "    .dataframe thead th {\n",
              "        text-align: right;\n",
              "    }\n",
              "</style>\n",
              "<table border=\"1\" class=\"dataframe\">\n",
              "  <thead>\n",
              "    <tr style=\"text-align: right;\">\n",
              "      <th></th>\n",
              "      <th>use [kW]</th>\n",
              "      <th>gen [kW]</th>\n",
              "      <th>House overall [kW]</th>\n",
              "      <th>Dishwasher [kW]</th>\n",
              "      <th>Furnace 1 [kW]</th>\n",
              "      <th>Furnace 2 [kW]</th>\n",
              "      <th>Home office [kW]</th>\n",
              "      <th>Fridge [kW]</th>\n",
              "      <th>Wine cellar [kW]</th>\n",
              "      <th>Garage door [kW]</th>\n",
              "      <th>Kitchen 12 [kW]</th>\n",
              "      <th>Kitchen 14 [kW]</th>\n",
              "      <th>Kitchen 38 [kW]</th>\n",
              "      <th>Barn [kW]</th>\n",
              "      <th>Well [kW]</th>\n",
              "      <th>Microwave [kW]</th>\n",
              "      <th>Living room [kW]</th>\n",
              "      <th>Solar [kW]</th>\n",
              "    </tr>\n",
              "  </thead>\n",
              "  <tbody>\n",
              "    <tr>\n",
              "      <th>count</th>\n",
              "      <td>1.122388e+06</td>\n",
              "      <td>1.122388e+06</td>\n",
              "      <td>1.122388e+06</td>\n",
              "      <td>1.122388e+06</td>\n",
              "      <td>1.122388e+06</td>\n",
              "      <td>1.122388e+06</td>\n",
              "      <td>1.122388e+06</td>\n",
              "      <td>1.122388e+06</td>\n",
              "      <td>1.122388e+06</td>\n",
              "      <td>1.122388e+06</td>\n",
              "      <td>1.122388e+06</td>\n",
              "      <td>1.122388e+06</td>\n",
              "      <td>1.122388e+06</td>\n",
              "      <td>1.122388e+06</td>\n",
              "      <td>1.122388e+06</td>\n",
              "      <td>1.122388e+06</td>\n",
              "      <td>1.122388e+06</td>\n",
              "      <td>1.122388e+06</td>\n",
              "    </tr>\n",
              "    <tr>\n",
              "      <th>mean</th>\n",
              "      <td>8.586093e-01</td>\n",
              "      <td>7.434275e-02</td>\n",
              "      <td>8.586093e-01</td>\n",
              "      <td>3.184114e-02</td>\n",
              "      <td>1.006452e-01</td>\n",
              "      <td>1.380187e-01</td>\n",
              "      <td>8.098821e-02</td>\n",
              "      <td>6.304383e-02</td>\n",
              "      <td>4.041510e-02</td>\n",
              "      <td>1.406003e-02</td>\n",
              "      <td>2.646124e-03</td>\n",
              "      <td>7.263566e-03</td>\n",
              "      <td>9.125672e-06</td>\n",
              "      <td>6.018542e-02</td>\n",
              "      <td>1.571743e-02</td>\n",
              "      <td>1.093606e-02</td>\n",
              "      <td>3.562499e-02</td>\n",
              "      <td>7.434275e-02</td>\n",
              "    </tr>\n",
              "    <tr>\n",
              "      <th>std</th>\n",
              "      <td>1.027684e+00</td>\n",
              "      <td>1.276012e-01</td>\n",
              "      <td>1.027684e+00</td>\n",
              "      <td>1.902896e-01</td>\n",
              "      <td>1.680745e-01</td>\n",
              "      <td>1.773840e-01</td>\n",
              "      <td>1.035455e-01</td>\n",
              "      <td>7.505205e-02</td>\n",
              "      <td>5.675952e-02</td>\n",
              "      <td>1.404396e-02</td>\n",
              "      <td>2.147780e-02</td>\n",
              "      <td>7.570843e-02</td>\n",
              "      <td>9.793845e-06</td>\n",
              "      <td>2.037356e-01</td>\n",
              "      <td>1.348729e-01</td>\n",
              "      <td>9.710667e-02</td>\n",
              "      <td>9.573338e-02</td>\n",
              "      <td>1.276012e-01</td>\n",
              "    </tr>\n",
              "    <tr>\n",
              "      <th>min</th>\n",
              "      <td>0.000000e+00</td>\n",
              "      <td>0.000000e+00</td>\n",
              "      <td>0.000000e+00</td>\n",
              "      <td>0.000000e+00</td>\n",
              "      <td>1.666700e-05</td>\n",
              "      <td>6.666700e-05</td>\n",
              "      <td>8.333300e-05</td>\n",
              "      <td>1.666700e-05</td>\n",
              "      <td>0.000000e+00</td>\n",
              "      <td>1.666700e-05</td>\n",
              "      <td>0.000000e+00</td>\n",
              "      <td>0.000000e+00</td>\n",
              "      <td>0.000000e+00</td>\n",
              "      <td>0.000000e+00</td>\n",
              "      <td>0.000000e+00</td>\n",
              "      <td>0.000000e+00</td>\n",
              "      <td>0.000000e+00</td>\n",
              "      <td>0.000000e+00</td>\n",
              "    </tr>\n",
              "    <tr>\n",
              "      <th>25%</th>\n",
              "      <td>3.729667e-01</td>\n",
              "      <td>3.350000e-03</td>\n",
              "      <td>3.729667e-01</td>\n",
              "      <td>0.000000e+00</td>\n",
              "      <td>2.023333e-02</td>\n",
              "      <td>6.428333e-02</td>\n",
              "      <td>4.025000e-02</td>\n",
              "      <td>5.083333e-03</td>\n",
              "      <td>7.050000e-03</td>\n",
              "      <td>1.270000e-02</td>\n",
              "      <td>5.000000e-04</td>\n",
              "      <td>1.666700e-05</td>\n",
              "      <td>0.000000e+00</td>\n",
              "      <td>2.986667e-02</td>\n",
              "      <td>9.833330e-04</td>\n",
              "      <td>3.397222e-03</td>\n",
              "      <td>1.466667e-03</td>\n",
              "      <td>3.350000e-03</td>\n",
              "    </tr>\n",
              "    <tr>\n",
              "      <th>50%</th>\n",
              "      <td>5.713833e-01</td>\n",
              "      <td>4.283333e-03</td>\n",
              "      <td>5.713833e-01</td>\n",
              "      <td>1.666700e-05</td>\n",
              "      <td>2.061667e-02</td>\n",
              "      <td>6.655000e-02</td>\n",
              "      <td>4.216667e-02</td>\n",
              "      <td>5.500000e-03</td>\n",
              "      <td>8.033333e-03</td>\n",
              "      <td>1.291667e-02</td>\n",
              "      <td>6.666670e-04</td>\n",
              "      <td>6.388900e-05</td>\n",
              "      <td>5.556000e-06</td>\n",
              "      <td>3.140000e-02</td>\n",
              "      <td>1.000000e-03</td>\n",
              "      <td>4.000000e-03</td>\n",
              "      <td>1.600000e-03</td>\n",
              "      <td>4.283333e-03</td>\n",
              "    </tr>\n",
              "    <tr>\n",
              "      <th>75%</th>\n",
              "      <td>9.835833e-01</td>\n",
              "      <td>7.785000e-02</td>\n",
              "      <td>9.835833e-01</td>\n",
              "      <td>2.333330e-04</td>\n",
              "      <td>7.005000e-02</td>\n",
              "      <td>8.088333e-02</td>\n",
              "      <td>6.776667e-02</td>\n",
              "      <td>1.250000e-01</td>\n",
              "      <td>4.265000e-02</td>\n",
              "      <td>1.310000e-02</td>\n",
              "      <td>7.500000e-04</td>\n",
              "      <td>1.666670e-04</td>\n",
              "      <td>1.666700e-05</td>\n",
              "      <td>3.315000e-02</td>\n",
              "      <td>1.016667e-03</td>\n",
              "      <td>4.083333e-03</td>\n",
              "      <td>1.750000e-03</td>\n",
              "      <td>7.785000e-02</td>\n",
              "    </tr>\n",
              "    <tr>\n",
              "      <th>max</th>\n",
              "      <td>1.471457e+01</td>\n",
              "      <td>1.043312e+00</td>\n",
              "      <td>1.471457e+01</td>\n",
              "      <td>1.401767e+00</td>\n",
              "      <td>1.934083e+00</td>\n",
              "      <td>7.949333e-01</td>\n",
              "      <td>9.717500e-01</td>\n",
              "      <td>8.512667e-01</td>\n",
              "      <td>1.273933e+00</td>\n",
              "      <td>1.110674e+00</td>\n",
              "      <td>1.166583e+00</td>\n",
              "      <td>2.262583e+00</td>\n",
              "      <td>1.833330e-04</td>\n",
              "      <td>7.027900e+00</td>\n",
              "      <td>1.633017e+00</td>\n",
              "      <td>1.929800e+00</td>\n",
              "      <td>4.652167e-01</td>\n",
              "      <td>1.043312e+00</td>\n",
              "    </tr>\n",
              "  </tbody>\n",
              "</table>\n",
              "</div>\n",
              "      <button class=\"colab-df-convert\" onclick=\"convertToInteractive('df-af1038e3-b547-4e40-b36d-9122b572e52d')\"\n",
              "              title=\"Convert this dataframe to an interactive table.\"\n",
              "              style=\"display:none;\">\n",
              "        \n",
              "  <svg xmlns=\"http://www.w3.org/2000/svg\" height=\"24px\"viewBox=\"0 0 24 24\"\n",
              "       width=\"24px\">\n",
              "    <path d=\"M0 0h24v24H0V0z\" fill=\"none\"/>\n",
              "    <path d=\"M18.56 5.44l.94 2.06.94-2.06 2.06-.94-2.06-.94-.94-2.06-.94 2.06-2.06.94zm-11 1L8.5 8.5l.94-2.06 2.06-.94-2.06-.94L8.5 2.5l-.94 2.06-2.06.94zm10 10l.94 2.06.94-2.06 2.06-.94-2.06-.94-.94-2.06-.94 2.06-2.06.94z\"/><path d=\"M17.41 7.96l-1.37-1.37c-.4-.4-.92-.59-1.43-.59-.52 0-1.04.2-1.43.59L10.3 9.45l-7.72 7.72c-.78.78-.78 2.05 0 2.83L4 21.41c.39.39.9.59 1.41.59.51 0 1.02-.2 1.41-.59l7.78-7.78 2.81-2.81c.8-.78.8-2.07 0-2.86zM5.41 20L4 18.59l7.72-7.72 1.47 1.35L5.41 20z\"/>\n",
              "  </svg>\n",
              "      </button>\n",
              "      \n",
              "  <style>\n",
              "    .colab-df-container {\n",
              "      display:flex;\n",
              "      flex-wrap:wrap;\n",
              "      gap: 12px;\n",
              "    }\n",
              "\n",
              "    .colab-df-convert {\n",
              "      background-color: #E8F0FE;\n",
              "      border: none;\n",
              "      border-radius: 50%;\n",
              "      cursor: pointer;\n",
              "      display: none;\n",
              "      fill: #1967D2;\n",
              "      height: 32px;\n",
              "      padding: 0 0 0 0;\n",
              "      width: 32px;\n",
              "    }\n",
              "\n",
              "    .colab-df-convert:hover {\n",
              "      background-color: #E2EBFA;\n",
              "      box-shadow: 0px 1px 2px rgba(60, 64, 67, 0.3), 0px 1px 3px 1px rgba(60, 64, 67, 0.15);\n",
              "      fill: #174EA6;\n",
              "    }\n",
              "\n",
              "    [theme=dark] .colab-df-convert {\n",
              "      background-color: #3B4455;\n",
              "      fill: #D2E3FC;\n",
              "    }\n",
              "\n",
              "    [theme=dark] .colab-df-convert:hover {\n",
              "      background-color: #434B5C;\n",
              "      box-shadow: 0px 1px 3px 1px rgba(0, 0, 0, 0.15);\n",
              "      filter: drop-shadow(0px 1px 2px rgba(0, 0, 0, 0.3));\n",
              "      fill: #FFFFFF;\n",
              "    }\n",
              "  </style>\n",
              "\n",
              "      <script>\n",
              "        const buttonEl =\n",
              "          document.querySelector('#df-af1038e3-b547-4e40-b36d-9122b572e52d button.colab-df-convert');\n",
              "        buttonEl.style.display =\n",
              "          google.colab.kernel.accessAllowed ? 'block' : 'none';\n",
              "\n",
              "        async function convertToInteractive(key) {\n",
              "          const element = document.querySelector('#df-af1038e3-b547-4e40-b36d-9122b572e52d');\n",
              "          const dataTable =\n",
              "            await google.colab.kernel.invokeFunction('convertToInteractive',\n",
              "                                                     [key], {});\n",
              "          if (!dataTable) return;\n",
              "\n",
              "          const docLinkHtml = 'Like what you see? Visit the ' +\n",
              "            '<a target=\"_blank\" href=https://colab.research.google.com/notebooks/data_table.ipynb>data table notebook</a>'\n",
              "            + ' to learn more about interactive tables.';\n",
              "          element.innerHTML = '';\n",
              "          dataTable['output_type'] = 'display_data';\n",
              "          await google.colab.output.renderOutput(dataTable, element);\n",
              "          const docLink = document.createElement('div');\n",
              "          docLink.innerHTML = docLinkHtml;\n",
              "          element.appendChild(docLink);\n",
              "        }\n",
              "      </script>\n",
              "    </div>\n",
              "  </div>\n",
              "  "
            ],
            "text/plain": [
              "           use [kW]      gen [kW]  House overall [kW]  Dishwasher [kW]  \\\n",
              "count  1.122388e+06  1.122388e+06        1.122388e+06     1.122388e+06   \n",
              "mean   8.586093e-01  7.434275e-02        8.586093e-01     3.184114e-02   \n",
              "std    1.027684e+00  1.276012e-01        1.027684e+00     1.902896e-01   \n",
              "min    0.000000e+00  0.000000e+00        0.000000e+00     0.000000e+00   \n",
              "25%    3.729667e-01  3.350000e-03        3.729667e-01     0.000000e+00   \n",
              "50%    5.713833e-01  4.283333e-03        5.713833e-01     1.666700e-05   \n",
              "75%    9.835833e-01  7.785000e-02        9.835833e-01     2.333330e-04   \n",
              "max    1.471457e+01  1.043312e+00        1.471457e+01     1.401767e+00   \n",
              "\n",
              "       Furnace 1 [kW]  Furnace 2 [kW]  Home office [kW]   Fridge [kW]  \\\n",
              "count    1.122388e+06    1.122388e+06      1.122388e+06  1.122388e+06   \n",
              "mean     1.006452e-01    1.380187e-01      8.098821e-02  6.304383e-02   \n",
              "std      1.680745e-01    1.773840e-01      1.035455e-01  7.505205e-02   \n",
              "min      1.666700e-05    6.666700e-05      8.333300e-05  1.666700e-05   \n",
              "25%      2.023333e-02    6.428333e-02      4.025000e-02  5.083333e-03   \n",
              "50%      2.061667e-02    6.655000e-02      4.216667e-02  5.500000e-03   \n",
              "75%      7.005000e-02    8.088333e-02      6.776667e-02  1.250000e-01   \n",
              "max      1.934083e+00    7.949333e-01      9.717500e-01  8.512667e-01   \n",
              "\n",
              "       Wine cellar [kW]  Garage door [kW]  Kitchen 12 [kW]  Kitchen 14 [kW]  \\\n",
              "count      1.122388e+06      1.122388e+06     1.122388e+06     1.122388e+06   \n",
              "mean       4.041510e-02      1.406003e-02     2.646124e-03     7.263566e-03   \n",
              "std        5.675952e-02      1.404396e-02     2.147780e-02     7.570843e-02   \n",
              "min        0.000000e+00      1.666700e-05     0.000000e+00     0.000000e+00   \n",
              "25%        7.050000e-03      1.270000e-02     5.000000e-04     1.666700e-05   \n",
              "50%        8.033333e-03      1.291667e-02     6.666670e-04     6.388900e-05   \n",
              "75%        4.265000e-02      1.310000e-02     7.500000e-04     1.666670e-04   \n",
              "max        1.273933e+00      1.110674e+00     1.166583e+00     2.262583e+00   \n",
              "\n",
              "       Kitchen 38 [kW]     Barn [kW]     Well [kW]  Microwave [kW]  \\\n",
              "count     1.122388e+06  1.122388e+06  1.122388e+06    1.122388e+06   \n",
              "mean      9.125672e-06  6.018542e-02  1.571743e-02    1.093606e-02   \n",
              "std       9.793845e-06  2.037356e-01  1.348729e-01    9.710667e-02   \n",
              "min       0.000000e+00  0.000000e+00  0.000000e+00    0.000000e+00   \n",
              "25%       0.000000e+00  2.986667e-02  9.833330e-04    3.397222e-03   \n",
              "50%       5.556000e-06  3.140000e-02  1.000000e-03    4.000000e-03   \n",
              "75%       1.666700e-05  3.315000e-02  1.016667e-03    4.083333e-03   \n",
              "max       1.833330e-04  7.027900e+00  1.633017e+00    1.929800e+00   \n",
              "\n",
              "       Living room [kW]    Solar [kW]  \n",
              "count      1.122388e+06  1.122388e+06  \n",
              "mean       3.562499e-02  7.434275e-02  \n",
              "std        9.573338e-02  1.276012e-01  \n",
              "min        0.000000e+00  0.000000e+00  \n",
              "25%        1.466667e-03  3.350000e-03  \n",
              "50%        1.600000e-03  4.283333e-03  \n",
              "75%        1.750000e-03  7.785000e-02  \n",
              "max        4.652167e-01  1.043312e+00  "
            ]
          },
          "execution_count": 14,
          "metadata": {},
          "output_type": "execute_result"
        }
      ],
      "source": [
        "\n",
        "# explore data\n",
        "dataset.describe()"
      ]
    },
    {
      "cell_type": "code",
      "execution_count": 15,
      "metadata": {
        "colab": {
          "base_uri": "https://localhost:8080/"
        },
        "id": "C7o8DmjKRsK7",
        "outputId": "522f4e69-1e84-45f4-c8b3-e18c090b83be"
      },
      "outputs": [
        {
          "data": {
            "text/plain": [
              "(1122388, 19)"
            ]
          },
          "execution_count": 15,
          "metadata": {},
          "output_type": "execute_result"
        }
      ],
      "source": [
        "\n",
        "dataset.shape   "
      ]
    },
    {
      "cell_type": "code",
      "execution_count": 16,
      "metadata": {
        "colab": {
          "base_uri": "https://localhost:8080/"
        },
        "id": "X6EpdyNsR7SY",
        "outputId": "d6349b73-484f-47d8-b0c2-2ed93092de7d"
      },
      "outputs": [
        {
          "name": "stdout",
          "output_type": "stream",
          "text": [
            "<class 'pandas.core.frame.DataFrame'>\n",
            "Int64Index: 1122388 entries, 0 to 503909\n",
            "Data columns (total 19 columns):\n",
            " #   Column              Non-Null Count    Dtype  \n",
            "---  ------              --------------    -----  \n",
            " 0   Date & Time         1122388 non-null  object \n",
            " 1   use [kW]            1122388 non-null  float64\n",
            " 2   gen [kW]            1122388 non-null  float64\n",
            " 3   House overall [kW]  1122388 non-null  float64\n",
            " 4   Dishwasher [kW]     1122388 non-null  float64\n",
            " 5   Furnace 1 [kW]      1122388 non-null  float64\n",
            " 6   Furnace 2 [kW]      1122388 non-null  float64\n",
            " 7   Home office [kW]    1122388 non-null  float64\n",
            " 8   Fridge [kW]         1122388 non-null  float64\n",
            " 9   Wine cellar [kW]    1122388 non-null  float64\n",
            " 10  Garage door [kW]    1122388 non-null  float64\n",
            " 11  Kitchen 12 [kW]     1122388 non-null  float64\n",
            " 12  Kitchen 14 [kW]     1122388 non-null  float64\n",
            " 13  Kitchen 38 [kW]     1122388 non-null  float64\n",
            " 14  Barn [kW]           1122388 non-null  float64\n",
            " 15  Well [kW]           1122388 non-null  float64\n",
            " 16  Microwave [kW]      1122388 non-null  float64\n",
            " 17  Living room [kW]    1122388 non-null  float64\n",
            " 18  Solar [kW]          1122388 non-null  float64\n",
            "dtypes: float64(18), object(1)\n",
            "memory usage: 171.3+ MB\n"
          ]
        }
      ],
      "source": [
        "\n",
        "# info\n",
        "dataset.info()"
      ]
    },
    {
      "cell_type": "code",
      "execution_count": 17,
      "metadata": {
        "colab": {
          "base_uri": "https://localhost:8080/"
        },
        "id": "54zR6NY6R7-t",
        "outputId": "402bab6b-f592-4a6d-e067-e260c1cb827f"
      },
      "outputs": [
        {
          "data": {
            "text/plain": [
              "Date & Time            object\n",
              "use [kW]              float64\n",
              "gen [kW]              float64\n",
              "House overall [kW]    float64\n",
              "Dishwasher [kW]       float64\n",
              "Furnace 1 [kW]        float64\n",
              "Furnace 2 [kW]        float64\n",
              "Home office [kW]      float64\n",
              "Fridge [kW]           float64\n",
              "Wine cellar [kW]      float64\n",
              "Garage door [kW]      float64\n",
              "Kitchen 12 [kW]       float64\n",
              "Kitchen 14 [kW]       float64\n",
              "Kitchen 38 [kW]       float64\n",
              "Barn [kW]             float64\n",
              "Well [kW]             float64\n",
              "Microwave [kW]        float64\n",
              "Living room [kW]      float64\n",
              "Solar [kW]            float64\n",
              "dtype: object"
            ]
          },
          "execution_count": 17,
          "metadata": {},
          "output_type": "execute_result"
        }
      ],
      "source": [
        "\n",
        "# data types\n",
        "dataset.dtypes"
      ]
    },
    {
      "cell_type": "code",
      "execution_count": 18,
      "metadata": {
        "colab": {
          "base_uri": "https://localhost:8080/"
        },
        "id": "g_3tUCvfSCtd",
        "outputId": "644a3232-4a5c-457a-ebd9-d9b2a650652e"
      },
      "outputs": [
        {
          "data": {
            "text/plain": [
              "Date & Time           0\n",
              "use [kW]              0\n",
              "gen [kW]              0\n",
              "House overall [kW]    0\n",
              "Dishwasher [kW]       0\n",
              "Furnace 1 [kW]        0\n",
              "Furnace 2 [kW]        0\n",
              "Home office [kW]      0\n",
              "Fridge [kW]           0\n",
              "Wine cellar [kW]      0\n",
              "Garage door [kW]      0\n",
              "Kitchen 12 [kW]       0\n",
              "Kitchen 14 [kW]       0\n",
              "Kitchen 38 [kW]       0\n",
              "Barn [kW]             0\n",
              "Well [kW]             0\n",
              "Microwave [kW]        0\n",
              "Living room [kW]      0\n",
              "Solar [kW]            0\n",
              "dtype: int64"
            ]
          },
          "execution_count": 18,
          "metadata": {},
          "output_type": "execute_result"
        }
      ],
      "source": [
        "\n",
        "# check null values\n",
        "dataset.isnull().sum()"
      ]
    },
    {
      "cell_type": "code",
      "execution_count": 19,
      "metadata": {
        "colab": {
          "base_uri": "https://localhost:8080/"
        },
        "id": "qMisrtXTSrMZ",
        "outputId": "7686c6bf-356b-46d5-d4ba-15269790f565"
      },
      "outputs": [
        {
          "data": {
            "text/plain": [
              "Index(['Date & Time', 'use [kW]', 'gen [kW]', 'House overall [kW]',\n",
              "       'Dishwasher [kW]', 'Furnace 1 [kW]', 'Furnace 2 [kW]',\n",
              "       'Home office [kW]', 'Fridge [kW]', 'Wine cellar [kW]',\n",
              "       'Garage door [kW]', 'Kitchen 12 [kW]', 'Kitchen 14 [kW]',\n",
              "       'Kitchen 38 [kW]', 'Barn [kW]', 'Well [kW]', 'Microwave [kW]',\n",
              "       'Living room [kW]', 'Solar [kW]'],\n",
              "      dtype='object')"
            ]
          },
          "execution_count": 19,
          "metadata": {},
          "output_type": "execute_result"
        }
      ],
      "source": [
        "\n",
        "# check columns\n",
        "dataset.columns"
      ]
    },
    {
      "cell_type": "code",
      "execution_count": 20,
      "metadata": {
        "id": "qNwxVAnGSvz9"
      },
      "outputs": [],
      "source": [
        "# convert date time to datetime format\n",
        "dataset['Date & Time'] = pd.to_datetime(dataset['Date & Time'])"
      ]
    },
    {
      "cell_type": "code",
      "execution_count": 21,
      "metadata": {
        "id": "h8i3RpEUTCCf"
      },
      "outputs": [],
      "source": [
        "\n",
        "\n",
        "# data visualization\n",
        "import matplotlib.pyplot as plt\n",
        "import seaborn as sns\n"
      ]
    },
    {
      "cell_type": "code",
      "execution_count": 22,
      "metadata": {
        "colab": {
          "base_uri": "https://localhost:8080/",
          "height": 872
        },
        "id": "r1bD9U_qTTei",
        "outputId": "c77b4f5d-8e7b-42c2-d13e-ca133e2e98fd"
      },
      "outputs": [
        {
          "data": {
            "image/png": "[encoded data removed]",
            "text/plain": [
              "<Figure size 2000x1000 with 1 Axes>"
            ]
          },
          "metadata": {},
          "output_type": "display_data"
        }
      ],
      "source": [
        "\n",
        "# plot data\n",
        "plt.figure(figsize=(20, 10))\n",
        "plt.plot(dataset['Date & Time'], dataset['use [kW]'])\n",
        "plt.xlabel('Date & Time')\n",
        "plt.ylabel('use [kW]')\n",
        "plt.title('use [kW] vs Date & Time')\n",
        "plt.show()"
      ]
    },
    {
      "cell_type": "code",
      "execution_count": 23,
      "metadata": {
        "colab": {
          "base_uri": "https://localhost:8080/",
          "height": 872
        },
        "id": "JQcP1KK7TWyG",
        "outputId": "871d84d1-16aa-4878-e814-5d26b9118b98"
      },
      "outputs": [
        {
          "data": {
            "image/png": "[encoded data removed]",
            "text/plain": [
              "<Figure size 2000x1000 with 1 Axes>"
            ]
          },
          "metadata": {},
          "output_type": "display_data"
        }
      ],
      "source": [
        "\n",
        "# plot data\n",
        "plt.figure(figsize=(20, 10))\n",
        "plt.plot(dataset['Date & Time'], dataset['gen [kW]'])\n",
        "plt.xlabel('Date & Time')\n",
        "plt.ylabel('gen [kW]')\n",
        "plt.title('gen [kW] vs Date & Time')\n",
        "plt.show()\n"
      ]
    },
    {
      "cell_type": "code",
      "execution_count": 24,
      "metadata": {
        "colab": {
          "base_uri": "https://localhost:8080/",
          "height": 872
        },
        "id": "SOTXaDPETfPX",
        "outputId": "7c5aa580-c47a-404d-bc44-b873c400f7ba"
      },
      "outputs": [
        {
          "data": {
            "image/png": "[encoded data removed]",
            "text/plain": [
              "<Figure size 2000x1000 with 1 Axes>"
            ]
          },
          "metadata": {},
          "output_type": "display_data"
        }
      ],
      "source": [
        "\n",
        "# plot data\n",
        "plt.figure(figsize=(20, 10))\n",
        "plt.plot(dataset['Date & Time'], dataset['House overall [kW]'])\n",
        "plt.xlabel('Date & Time')\n",
        "plt.ylabel('House overall [kW]')\n",
        "plt.title('House overall [kW] vs Date & Time')\n",
        "plt.show()\n"
      ]
    },
    {
      "cell_type": "code",
      "execution_count": 25,
      "metadata": {
        "id": "OHLTHieLT5PV"
      },
      "outputs": [],
      "source": [
        "# 2. Data Preprocessing\n",
        "\n",
        "# feature engineering\n",
        "\n",
        "# create new features\n",
        "dataset['year'] = dataset['Date & Time'].dt.year\n",
        "dataset['month'] = dataset['Date & Time'].dt.month\n",
        "dataset['day'] = dataset['Date & Time'].dt.day\n",
        "dataset['hour'] = dataset['Date & Time'].dt.hour"
      ]
    },
    {
      "cell_type": "code",
      "execution_count": 26,
      "metadata": {
        "colab": {
          "base_uri": "https://localhost:8080/",
          "height": 384
        },
        "id": "5Gs7_t8PUX7i",
        "outputId": "e454bb1d-7088-4ca7-c767-5ebbb6a8d336"
      },
      "outputs": [
        {
          "data": {
            "text/html": [
              "\n",
              "  <div id=\"df-b34e7e0f-75aa-44c5-8229-2d897d5bf507\">\n",
              "    <div class=\"colab-df-container\">\n",
              "      <div>\n",
              "<style scoped>\n",
              "    .dataframe tbody tr th:only-of-type {\n",
              "        vertical-align: middle;\n",
              "    }\n",
              "\n",
              "    .dataframe tbody tr th {\n",
              "        vertical-align: top;\n",
              "    }\n",
              "\n",
              "    .dataframe thead th {\n",
              "        text-align: right;\n",
              "    }\n",
              "</style>\n",
              "<table border=\"1\" class=\"dataframe\">\n",
              "  <thead>\n",
              "    <tr style=\"text-align: right;\">\n",
              "      <th></th>\n",
              "      <th>Date &amp; Time</th>\n",
              "      <th>use [kW]</th>\n",
              "      <th>gen [kW]</th>\n",
              "      <th>House overall [kW]</th>\n",
              "      <th>Dishwasher [kW]</th>\n",
              "      <th>Furnace 1 [kW]</th>\n",
              "      <th>Furnace 2 [kW]</th>\n",
              "      <th>Home office [kW]</th>\n",
              "      <th>Fridge [kW]</th>\n",
              "      <th>Wine cellar [kW]</th>\n",
              "      <th>...</th>\n",
              "      <th>Kitchen 38 [kW]</th>\n",
              "      <th>Barn [kW]</th>\n",
              "      <th>Well [kW]</th>\n",
              "      <th>Microwave [kW]</th>\n",
              "      <th>Living room [kW]</th>\n",
              "      <th>Solar [kW]</th>\n",
              "      <th>year</th>\n",
              "      <th>month</th>\n",
              "      <th>day</th>\n",
              "      <th>hour</th>\n",
              "    </tr>\n",
              "  </thead>\n",
              "  <tbody>\n",
              "    <tr>\n",
              "      <th>0</th>\n",
              "      <td>2014-01-01 00:00:00</td>\n",
              "      <td>2.108589</td>\n",
              "      <td>0.004111</td>\n",
              "      <td>2.108589</td>\n",
              "      <td>0.000023</td>\n",
              "      <td>0.100391</td>\n",
              "      <td>0.063347</td>\n",
              "      <td>0.040204</td>\n",
              "      <td>0.136891</td>\n",
              "      <td>0.004294</td>\n",
              "      <td>...</td>\n",
              "      <td>0.000003</td>\n",
              "      <td>0.087443</td>\n",
              "      <td>0.000116</td>\n",
              "      <td>0.003593</td>\n",
              "      <td>0.102349</td>\n",
              "      <td>0.004111</td>\n",
              "      <td>2014</td>\n",
              "      <td>1</td>\n",
              "      <td>1</td>\n",
              "      <td>0</td>\n",
              "    </tr>\n",
              "    <tr>\n",
              "      <th>1</th>\n",
              "      <td>2014-01-01 00:30:00</td>\n",
              "      <td>1.828066</td>\n",
              "      <td>0.004040</td>\n",
              "      <td>1.828066</td>\n",
              "      <td>0.000059</td>\n",
              "      <td>0.170241</td>\n",
              "      <td>0.063181</td>\n",
              "      <td>0.039184</td>\n",
              "      <td>0.146551</td>\n",
              "      <td>0.004210</td>\n",
              "      <td>...</td>\n",
              "      <td>0.000002</td>\n",
              "      <td>0.141680</td>\n",
              "      <td>0.079844</td>\n",
              "      <td>0.039922</td>\n",
              "      <td>0.038129</td>\n",
              "      <td>0.004040</td>\n",
              "      <td>2014</td>\n",
              "      <td>1</td>\n",
              "      <td>1</td>\n",
              "      <td>0</td>\n",
              "    </tr>\n",
              "    <tr>\n",
              "      <th>2</th>\n",
              "      <td>2014-01-01 01:00:00</td>\n",
              "      <td>0.960618</td>\n",
              "      <td>0.004423</td>\n",
              "      <td>0.960618</td>\n",
              "      <td>0.000062</td>\n",
              "      <td>0.191079</td>\n",
              "      <td>0.129996</td>\n",
              "      <td>0.039070</td>\n",
              "      <td>0.063167</td>\n",
              "      <td>0.004314</td>\n",
              "      <td>...</td>\n",
              "      <td>0.000004</td>\n",
              "      <td>0.035265</td>\n",
              "      <td>0.000556</td>\n",
              "      <td>0.003914</td>\n",
              "      <td>0.007687</td>\n",
              "      <td>0.004423</td>\n",
              "      <td>2014</td>\n",
              "      <td>1</td>\n",
              "      <td>1</td>\n",
              "      <td>1</td>\n",
              "    </tr>\n",
              "    <tr>\n",
              "      <th>3</th>\n",
              "      <td>2014-01-01 01:30:00</td>\n",
              "      <td>0.956158</td>\n",
              "      <td>0.004581</td>\n",
              "      <td>0.956158</td>\n",
              "      <td>0.000056</td>\n",
              "      <td>0.227550</td>\n",
              "      <td>0.274561</td>\n",
              "      <td>0.039026</td>\n",
              "      <td>0.005300</td>\n",
              "      <td>0.004406</td>\n",
              "      <td>...</td>\n",
              "      <td>0.000007</td>\n",
              "      <td>0.035409</td>\n",
              "      <td>0.000016</td>\n",
              "      <td>0.003287</td>\n",
              "      <td>0.004327</td>\n",
              "      <td>0.004581</td>\n",
              "      <td>2014</td>\n",
              "      <td>1</td>\n",
              "      <td>1</td>\n",
              "      <td>1</td>\n",
              "    </tr>\n",
              "    <tr>\n",
              "      <th>4</th>\n",
              "      <td>2014-01-01 02:00:00</td>\n",
              "      <td>1.111968</td>\n",
              "      <td>0.004586</td>\n",
              "      <td>1.111968</td>\n",
              "      <td>0.000056</td>\n",
              "      <td>0.272573</td>\n",
              "      <td>0.376884</td>\n",
              "      <td>0.038959</td>\n",
              "      <td>0.005165</td>\n",
              "      <td>0.004447</td>\n",
              "      <td>...</td>\n",
              "      <td>0.000008</td>\n",
              "      <td>0.035453</td>\n",
              "      <td>0.000017</td>\n",
              "      <td>0.003280</td>\n",
              "      <td>0.001753</td>\n",
              "      <td>0.004586</td>\n",
              "      <td>2014</td>\n",
              "      <td>1</td>\n",
              "      <td>1</td>\n",
              "      <td>2</td>\n",
              "    </tr>\n",
              "  </tbody>\n",
              "</table>\n",
              "<p>5 rows × 23 columns</p>\n",
              "</div>\n",
              "      <button class=\"colab-df-convert\" onclick=\"convertToInteractive('df-b34e7e0f-75aa-44c5-8229-2d897d5bf507')\"\n",
              "              title=\"Convert this dataframe to an interactive table.\"\n",
              "              style=\"display:none;\">\n",
              "        \n",
              "  <svg xmlns=\"http://www.w3.org/2000/svg\" height=\"24px\"viewBox=\"0 0 24 24\"\n",
              "       width=\"24px\">\n",
              "    <path d=\"M0 0h24v24H0V0z\" fill=\"none\"/>\n",
              "    <path d=\"M18.56 5.44l.94 2.06.94-2.06 2.06-.94-2.06-.94-.94-2.06-.94 2.06-2.06.94zm-11 1L8.5 8.5l.94-2.06 2.06-.94-2.06-.94L8.5 2.5l-.94 2.06-2.06.94zm10 10l.94 2.06.94-2.06 2.06-.94-2.06-.94-.94-2.06-.94 2.06-2.06.94z\"/><path d=\"M17.41 7.96l-1.37-1.37c-.4-.4-.92-.59-1.43-.59-.52 0-1.04.2-1.43.59L10.3 9.45l-7.72 7.72c-.78.78-.78 2.05 0 2.83L4 21.41c.39.39.9.59 1.41.59.51 0 1.02-.2 1.41-.59l7.78-7.78 2.81-2.81c.8-.78.8-2.07 0-2.86zM5.41 20L4 18.59l7.72-7.72 1.47 1.35L5.41 20z\"/>\n",
              "  </svg>\n",
              "      </button>\n",
              "      \n",
              "  <style>\n",
              "    .colab-df-container {\n",
              "      display:flex;\n",
              "      flex-wrap:wrap;\n",
              "      gap: 12px;\n",
              "    }\n",
              "\n",
              "    .colab-df-convert {\n",
              "      background-color: #E8F0FE;\n",
              "      border: none;\n",
              "      border-radius: 50%;\n",
              "      cursor: pointer;\n",
              "      display: none;\n",
              "      fill: #1967D2;\n",
              "      height: 32px;\n",
              "      padding: 0 0 0 0;\n",
              "      width: 32px;\n",
              "    }\n",
              "\n",
              "    .colab-df-convert:hover {\n",
              "      background-color: #E2EBFA;\n",
              "      box-shadow: 0px 1px 2px rgba(60, 64, 67, 0.3), 0px 1px 3px 1px rgba(60, 64, 67, 0.15);\n",
              "      fill: #174EA6;\n",
              "    }\n",
              "\n",
              "    [theme=dark] .colab-df-convert {\n",
              "      background-color: #3B4455;\n",
              "      fill: #D2E3FC;\n",
              "    }\n",
              "\n",
              "    [theme=dark] .colab-df-convert:hover {\n",
              "      background-color: #434B5C;\n",
              "      box-shadow: 0px 1px 3px 1px rgba(0, 0, 0, 0.15);\n",
              "      filter: drop-shadow(0px 1px 2px rgba(0, 0, 0, 0.3));\n",
              "      fill: #FFFFFF;\n",
              "    }\n",
              "  </style>\n",
              "\n",
              "      <script>\n",
              "        const buttonEl =\n",
              "          document.querySelector('#df-b34e7e0f-75aa-44c5-8229-2d897d5bf507 button.colab-df-convert');\n",
              "        buttonEl.style.display =\n",
              "          google.colab.kernel.accessAllowed ? 'block' : 'none';\n",
              "\n",
              "        async function convertToInteractive(key) {\n",
              "          const element = document.querySelector('#df-b34e7e0f-75aa-44c5-8229-2d897d5bf507');\n",
              "          const dataTable =\n",
              "            await google.colab.kernel.invokeFunction('convertToInteractive',\n",
              "                                                     [key], {});\n",
              "          if (!dataTable) return;\n",
              "\n",
              "          const docLinkHtml = 'Like what you see? Visit the ' +\n",
              "            '<a target=\"_blank\" href=https://colab.research.google.com/notebooks/data_table.ipynb>data table notebook</a>'\n",
              "            + ' to learn more about interactive tables.';\n",
              "          element.innerHTML = '';\n",
              "          dataTable['output_type'] = 'display_data';\n",
              "          await google.colab.output.renderOutput(dataTable, element);\n",
              "          const docLink = document.createElement('div');\n",
              "          docLink.innerHTML = docLinkHtml;\n",
              "          element.appendChild(docLink);\n",
              "        }\n",
              "      </script>\n",
              "    </div>\n",
              "  </div>\n",
              "  "
            ],
            "text/plain": [
              "          Date & Time  use [kW]  gen [kW]  House overall [kW]  \\\n",
              "0 2014-01-01 00:00:00  2.108589  0.004111            2.108589   \n",
              "1 2014-01-01 00:30:00  1.828066  0.004040            1.828066   \n",
              "2 2014-01-01 01:00:00  0.960618  0.004423            0.960618   \n",
              "3 2014-01-01 01:30:00  0.956158  0.004581            0.956158   \n",
              "4 2014-01-01 02:00:00  1.111968  0.004586            1.111968   \n",
              "\n",
              "   Dishwasher [kW]  Furnace 1 [kW]  Furnace 2 [kW]  Home office [kW]  \\\n",
              "0         0.000023        0.100391        0.063347          0.040204   \n",
              "1         0.000059        0.170241        0.063181          0.039184   \n",
              "2         0.000062        0.191079        0.129996          0.039070   \n",
              "3         0.000056        0.227550        0.274561          0.039026   \n",
              "4         0.000056        0.272573        0.376884          0.038959   \n",
              "\n",
              "   Fridge [kW]  Wine cellar [kW]  ...  Kitchen 38 [kW]  Barn [kW]  Well [kW]  \\\n",
              "0     0.136891          0.004294  ...         0.000003   0.087443   0.000116   \n",
              "1     0.146551          0.004210  ...         0.000002   0.141680   0.079844   \n",
              "2     0.063167          0.004314  ...         0.000004   0.035265   0.000556   \n",
              "3     0.005300          0.004406  ...         0.000007   0.035409   0.000016   \n",
              "4     0.005165          0.004447  ...         0.000008   0.035453   0.000017   \n",
              "\n",
              "   Microwave [kW]  Living room [kW]  Solar [kW]  year  month  day  hour  \n",
              "0        0.003593          0.102349    0.004111  2014      1    1     0  \n",
              "1        0.039922          0.038129    0.004040  2014      1    1     0  \n",
              "2        0.003914          0.007687    0.004423  2014      1    1     1  \n",
              "3        0.003287          0.004327    0.004581  2014      1    1     1  \n",
              "4        0.003280          0.001753    0.004586  2014      1    1     2  \n",
              "\n",
              "[5 rows x 23 columns]"
            ]
          },
          "execution_count": 26,
          "metadata": {},
          "output_type": "execute_result"
        }
      ],
      "source": [
        "dataset.head()"
      ]
    },
    {
      "cell_type": "code",
      "execution_count": 27,
      "metadata": {
        "colab": {
          "base_uri": "https://localhost:8080/"
        },
        "id": "eB9EFXngUtwr",
        "outputId": "ca11cf98-fed7-4b54-f030-1548777f4c99"
      },
      "outputs": [
        {
          "data": {
            "text/plain": [
              "Index(['Date & Time', 'use [kW]', 'gen [kW]', 'House overall [kW]',\n",
              "       'Dishwasher [kW]', 'Furnace 1 [kW]', 'Furnace 2 [kW]',\n",
              "       'Home office [kW]', 'Fridge [kW]', 'Wine cellar [kW]',\n",
              "       'Garage door [kW]', 'Kitchen 12 [kW]', 'Kitchen 14 [kW]',\n",
              "       'Kitchen 38 [kW]', 'Barn [kW]', 'Well [kW]', 'Microwave [kW]',\n",
              "       'Living room [kW]', 'Solar [kW]', 'year', 'month', 'day', 'hour'],\n",
              "      dtype='object')"
            ]
          },
          "execution_count": 27,
          "metadata": {},
          "output_type": "execute_result"
        }
      ],
      "source": [
        "\n",
        "dataset.columns"
      ]
    },
    {
      "cell_type": "code",
      "execution_count": 28,
      "metadata": {
        "colab": {
          "base_uri": "https://localhost:8080/"
        },
        "id": "mcRntt9ZWGva",
        "outputId": "8b5ac8f0-4406-4708-c476-624973a32284"
      },
      "outputs": [
        {
          "data": {
            "text/plain": [
              "Date & Time           0\n",
              "use [kW]              0\n",
              "gen [kW]              0\n",
              "House overall [kW]    0\n",
              "Dishwasher [kW]       0\n",
              "Furnace 1 [kW]        0\n",
              "Furnace 2 [kW]        0\n",
              "Home office [kW]      0\n",
              "Fridge [kW]           0\n",
              "Wine cellar [kW]      0\n",
              "Garage door [kW]      0\n",
              "Kitchen 12 [kW]       0\n",
              "Kitchen 14 [kW]       0\n",
              "Kitchen 38 [kW]       0\n",
              "Barn [kW]             0\n",
              "Well [kW]             0\n",
              "Microwave [kW]        0\n",
              "Living room [kW]      0\n",
              "Solar [kW]            0\n",
              "year                  0\n",
              "month                 0\n",
              "day                   0\n",
              "hour                  0\n",
              "dtype: int64"
            ]
          },
          "execution_count": 28,
          "metadata": {},
          "output_type": "execute_result"
        }
      ],
      "source": [
        "\n",
        "\n",
        "# check null values\n",
        "dataset.isnull().sum()"
      ]
    },
    {
      "cell_type": "code",
      "execution_count": 29,
      "metadata": {
        "id": "LPjbzE9tcs-m"
      },
      "outputs": [],
      "source": [
        "from sklearn.metrics import mean_squared_error, mean_absolute_error\n",
        "from sklearn.model_selection import train_test_split"
      ]
    },
    {
      "cell_type": "code",
      "execution_count": 30,
      "metadata": {
        "colab": {
          "base_uri": "https://localhost:8080/"
        },
        "id": "-vVy-A0Ac1pJ",
        "outputId": "bff1dd95-9f2b-4f13-b664-78de9a826745"
      },
      "outputs": [
        {
          "data": {
            "text/plain": [
              "((897910, 23), (224478, 23))"
            ]
          },
          "execution_count": 30,
          "metadata": {},
          "output_type": "execute_result"
        }
      ],
      "source": [
        "\n",
        "# train test split\n",
        "train, test = train_test_split(dataset, test_size=0.2, random_state=0)\n",
        "\n",
        "train.shape, test.shape\n"
      ]
    },
    {
      "cell_type": "code",
      "execution_count": 31,
      "metadata": {
        "id": "Gr38X7fydTE7"
      },
      "outputs": [],
      "source": [
        "\n",
        "# create model\n",
        "model = Sequential()\n",
        "model.add(LSTM(50, input_shape=(1, 1)))\n",
        "model.add(Dense(1))\n",
        "model.compile(loss='mean_squared_error', optimizer='adam')\n"
      ]
    },
    {
      "cell_type": "code",
      "execution_count": 34,
      "metadata": {
        "colab": {
          "base_uri": "https://localhost:8080/",
          "height": 312
        },
        "id": "8LtPFlUW9F-s",
        "outputId": "88f5f544-c580-47ae-a765-b4ac41e28489"
      },
      "outputs": [
        {
          "data": {
            "image/png": "[encoded data removed]",
            "text/plain": [
              "<IPython.core.display.Image object>"
            ]
          },
          "execution_count": 34,
          "metadata": {},
          "output_type": "execute_result"
        }
      ],
      "source": [
        "from keras.utils import plot_model\n",
        "plot_model(model, to_file='lstm_model.png', show_shapes=True, show_layer_names=True)"
      ]
    },
    {
      "cell_type": "code",
      "execution_count": 32,
      "metadata": {
        "id": "vgZS6eGYdVQh"
      },
      "outputs": [],
      "source": [
        "# reshape data\n",
        "X_train = np.reshape(train['House overall [kW]'].values, (train.shape[0], 1, 1))\n",
        "X_test = np.reshape(test['House overall [kW]'].values, (test.shape[0], 1, 1))\n"
      ]
    },
    {
      "cell_type": "code",
      "execution_count": 33,
      "metadata": {
        "colab": {
          "base_uri": "https://localhost:8080/",
          "height": 381
        },
        "id": "4-dZBuL-dXps",
        "outputId": "a1ee9d84-07cb-4cfd-edf3-2e742b0a59f8"
      },
      "outputs": [
        {
          "name": "stdout",
          "output_type": "stream",
          "text": [
            "Epoch 1/10\n",
            " 2251/50000 [>.............................] - ETA: 2:07 - loss: 0.1966"
          ]
        },
        {
          "ename": "KeyboardInterrupt",
          "evalue": "ignored",
          "output_type": "error",
          "traceback": [
            "\u001b[0;31m---------------------------------------------------------------------------\u001b[0m",
            "\u001b[0;31mKeyboardInterrupt\u001b[0m                         Traceback (most recent call last)",
            "\u001b[0;32m<ipython-input-33-f80b1380a65e>\u001b[0m in \u001b[0;36m<cell line: 2>\u001b[0;34m()\u001b[0m\n\u001b[1;32m      1\u001b[0m \u001b[0;31m# fit model\u001b[0m\u001b[0;34m\u001b[0m\u001b[0;34m\u001b[0m\u001b[0m\n\u001b[0;32m----> 2\u001b[0;31m \u001b[0mmodel\u001b[0m\u001b[0;34m.\u001b[0m\u001b[0mfit\u001b[0m\u001b[0;34m(\u001b[0m\u001b[0mX_train\u001b[0m\u001b[0;34m,\u001b[0m \u001b[0mtrain\u001b[0m\u001b[0;34m[\u001b[0m\u001b[0;34m'House overall [kW]'\u001b[0m\u001b[0;34m]\u001b[0m\u001b[0;34m.\u001b[0m\u001b[0mvalues\u001b[0m\u001b[0;34m,\u001b[0m \u001b[0mepochs\u001b[0m\u001b[0;34m=\u001b[0m\u001b[0;36m10\u001b[0m\u001b[0;34m,\u001b[0m \u001b[0mbatch_size\u001b[0m\u001b[0;34m=\u001b[0m\u001b[0;36m1\u001b[0m\u001b[0;34m,\u001b[0m \u001b[0mverbose\u001b[0m\u001b[0;34m=\u001b[0m\u001b[0;36m1\u001b[0m\u001b[0;34m,\u001b[0m \u001b[0msteps_per_epoch\u001b[0m\u001b[0;34m=\u001b[0m\u001b[0;36m50000\u001b[0m\u001b[0;34m)\u001b[0m\u001b[0;34m\u001b[0m\u001b[0;34m\u001b[0m\u001b[0m\n\u001b[0m",
            "\u001b[0;32m/usr/local/lib/python3.10/dist-packages/keras/utils/traceback_utils.py\u001b[0m in \u001b[0;36merror_handler\u001b[0;34m(*args, **kwargs)\u001b[0m\n\u001b[1;32m     63\u001b[0m         \u001b[0mfiltered_tb\u001b[0m \u001b[0;34m=\u001b[0m \u001b[0;32mNone\u001b[0m\u001b[0;34m\u001b[0m\u001b[0;34m\u001b[0m\u001b[0m\n\u001b[1;32m     64\u001b[0m         \u001b[0;32mtry\u001b[0m\u001b[0;34m:\u001b[0m\u001b[0;34m\u001b[0m\u001b[0;34m\u001b[0m\u001b[0m\n\u001b[0;32m---> 65\u001b[0;31m             \u001b[0;32mreturn\u001b[0m \u001b[0mfn\u001b[0m\u001b[0;34m(\u001b[0m\u001b[0;34m*\u001b[0m\u001b[0margs\u001b[0m\u001b[0;34m,\u001b[0m \u001b[0;34m**\u001b[0m\u001b[0mkwargs\u001b[0m\u001b[0;34m)\u001b[0m\u001b[0;34m\u001b[0m\u001b[0;34m\u001b[0m\u001b[0m\n\u001b[0m\u001b[1;32m     66\u001b[0m         \u001b[0;32mexcept\u001b[0m \u001b[0mException\u001b[0m \u001b[0;32mas\u001b[0m \u001b[0me\u001b[0m\u001b[0;34m:\u001b[0m\u001b[0;34m\u001b[0m\u001b[0;34m\u001b[0m\u001b[0m\n\u001b[1;32m     67\u001b[0m             \u001b[0mfiltered_tb\u001b[0m \u001b[0;34m=\u001b[0m \u001b[0m_process_traceback_frames\u001b[0m\u001b[0;34m(\u001b[0m\u001b[0me\u001b[0m\u001b[0;34m.\u001b[0m\u001b[0m__traceback__\u001b[0m\u001b[0;34m)\u001b[0m\u001b[0;34m\u001b[0m\u001b[0;34m\u001b[0m\u001b[0m\n",
            "\u001b[0;32m/usr/local/lib/python3.10/dist-packages/keras/engine/training.py\u001b[0m in \u001b[0;36mfit\u001b[0;34m(self, x, y, batch_size, epochs, verbose, callbacks, validation_split, validation_data, shuffle, class_weight, sample_weight, initial_epoch, steps_per_epoch, validation_steps, validation_batch_size, validation_freq, max_queue_size, workers, use_multiprocessing)\u001b[0m\n\u001b[1;32m   1689\u001b[0m                             \u001b[0mlogs\u001b[0m \u001b[0;34m=\u001b[0m \u001b[0mtmp_logs\u001b[0m\u001b[0;34m\u001b[0m\u001b[0;34m\u001b[0m\u001b[0m\n\u001b[1;32m   1690\u001b[0m                             \u001b[0mend_step\u001b[0m \u001b[0;34m=\u001b[0m \u001b[0mstep\u001b[0m \u001b[0;34m+\u001b[0m \u001b[0mdata_handler\u001b[0m\u001b[0;34m.\u001b[0m\u001b[0mstep_increment\u001b[0m\u001b[0;34m\u001b[0m\u001b[0;34m\u001b[0m\u001b[0m\n\u001b[0;32m-> 1691\u001b[0;31m                             \u001b[0mcallbacks\u001b[0m\u001b[0;34m.\u001b[0m\u001b[0mon_train_batch_end\u001b[0m\u001b[0;34m(\u001b[0m\u001b[0mend_step\u001b[0m\u001b[0;34m,\u001b[0m \u001b[0mlogs\u001b[0m\u001b[0;34m)\u001b[0m\u001b[0;34m\u001b[0m\u001b[0;34m\u001b[0m\u001b[0m\n\u001b[0m\u001b[1;32m   1692\u001b[0m                             \u001b[0;32mif\u001b[0m \u001b[0mself\u001b[0m\u001b[0;34m.\u001b[0m\u001b[0mstop_training\u001b[0m\u001b[0;34m:\u001b[0m\u001b[0;34m\u001b[0m\u001b[0;34m\u001b[0m\u001b[0m\n\u001b[1;32m   1693\u001b[0m                                 \u001b[0;32mbreak\u001b[0m\u001b[0;34m\u001b[0m\u001b[0;34m\u001b[0m\u001b[0m\n",
            "\u001b[0;32m/usr/local/lib/python3.10/dist-packages/keras/callbacks.py\u001b[0m in \u001b[0;36mon_train_batch_end\u001b[0;34m(self, batch, logs)\u001b[0m\n\u001b[1;32m    473\u001b[0m         \"\"\"\n\u001b[1;32m    474\u001b[0m         \u001b[0;32mif\u001b[0m \u001b[0mself\u001b[0m\u001b[0;34m.\u001b[0m\u001b[0m_should_call_train_batch_hooks\u001b[0m\u001b[0;34m:\u001b[0m\u001b[0;34m\u001b[0m\u001b[0;34m\u001b[0m\u001b[0m\n\u001b[0;32m--> 475\u001b[0;31m             \u001b[0mself\u001b[0m\u001b[0;34m.\u001b[0m\u001b[0m_call_batch_hook\u001b[0m\u001b[0;34m(\u001b[0m\u001b[0mModeKeys\u001b[0m\u001b[0;34m.\u001b[0m\u001b[0mTRAIN\u001b[0m\u001b[0;34m,\u001b[0m \u001b[0;34m\"end\"\u001b[0m\u001b[0;34m,\u001b[0m \u001b[0mbatch\u001b[0m\u001b[0;34m,\u001b[0m \u001b[0mlogs\u001b[0m\u001b[0;34m=\u001b[0m\u001b[0mlogs\u001b[0m\u001b[0;34m)\u001b[0m\u001b[0;34m\u001b[0m\u001b[0;34m\u001b[0m\u001b[0m\n\u001b[0m\u001b[1;32m    476\u001b[0m \u001b[0;34m\u001b[0m\u001b[0m\n\u001b[1;32m    477\u001b[0m     \u001b[0;32mdef\u001b[0m \u001b[0mon_test_batch_begin\u001b[0m\u001b[0;34m(\u001b[0m\u001b[0mself\u001b[0m\u001b[0;34m,\u001b[0m \u001b[0mbatch\u001b[0m\u001b[0;34m,\u001b[0m \u001b[0mlogs\u001b[0m\u001b[0;34m=\u001b[0m\u001b[0;32mNone\u001b[0m\u001b[0;34m)\u001b[0m\u001b[0;34m:\u001b[0m\u001b[0;34m\u001b[0m\u001b[0;34m\u001b[0m\u001b[0m\n",
            "\u001b[0;32m/usr/local/lib/python3.10/dist-packages/keras/callbacks.py\u001b[0m in \u001b[0;36m_call_batch_hook\u001b[0;34m(self, mode, hook, batch, logs)\u001b[0m\n\u001b[1;32m    320\u001b[0m             \u001b[0mself\u001b[0m\u001b[0;34m.\u001b[0m\u001b[0m_call_batch_begin_hook\u001b[0m\u001b[0;34m(\u001b[0m\u001b[0mmode\u001b[0m\u001b[0;34m,\u001b[0m \u001b[0mbatch\u001b[0m\u001b[0;34m,\u001b[0m \u001b[0mlogs\u001b[0m\u001b[0;34m)\u001b[0m\u001b[0;34m\u001b[0m\u001b[0;34m\u001b[0m\u001b[0m\n\u001b[1;32m    321\u001b[0m         \u001b[0;32melif\u001b[0m \u001b[0mhook\u001b[0m \u001b[0;34m==\u001b[0m \u001b[0;34m\"end\"\u001b[0m\u001b[0;34m:\u001b[0m\u001b[0;34m\u001b[0m\u001b[0;34m\u001b[0m\u001b[0m\n\u001b[0;32m--> 322\u001b[0;31m             \u001b[0mself\u001b[0m\u001b[0;34m.\u001b[0m\u001b[0m_call_batch_end_hook\u001b[0m\u001b[0;34m(\u001b[0m\u001b[0mmode\u001b[0m\u001b[0;34m,\u001b[0m \u001b[0mbatch\u001b[0m\u001b[0;34m,\u001b[0m \u001b[0mlogs\u001b[0m\u001b[0;34m)\u001b[0m\u001b[0;34m\u001b[0m\u001b[0;34m\u001b[0m\u001b[0m\n\u001b[0m\u001b[1;32m    323\u001b[0m         \u001b[0;32melse\u001b[0m\u001b[0;34m:\u001b[0m\u001b[0;34m\u001b[0m\u001b[0;34m\u001b[0m\u001b[0m\n\u001b[1;32m    324\u001b[0m             raise ValueError(\n",
            "\u001b[0;32m/usr/local/lib/python3.10/dist-packages/keras/callbacks.py\u001b[0m in \u001b[0;36m_call_batch_end_hook\u001b[0;34m(self, mode, batch, logs)\u001b[0m\n\u001b[1;32m    343\u001b[0m             \u001b[0mself\u001b[0m\u001b[0;34m.\u001b[0m\u001b[0m_batch_times\u001b[0m\u001b[0;34m.\u001b[0m\u001b[0mappend\u001b[0m\u001b[0;34m(\u001b[0m\u001b[0mbatch_time\u001b[0m\u001b[0;34m)\u001b[0m\u001b[0;34m\u001b[0m\u001b[0;34m\u001b[0m\u001b[0m\n\u001b[1;32m    344\u001b[0m \u001b[0;34m\u001b[0m\u001b[0m\n\u001b[0;32m--> 345\u001b[0;31m         \u001b[0mself\u001b[0m\u001b[0;34m.\u001b[0m\u001b[0m_call_batch_hook_helper\u001b[0m\u001b[0;34m(\u001b[0m\u001b[0mhook_name\u001b[0m\u001b[0;34m,\u001b[0m \u001b[0mbatch\u001b[0m\u001b[0;34m,\u001b[0m \u001b[0mlogs\u001b[0m\u001b[0;34m)\u001b[0m\u001b[0;34m\u001b[0m\u001b[0;34m\u001b[0m\u001b[0m\n\u001b[0m\u001b[1;32m    346\u001b[0m \u001b[0;34m\u001b[0m\u001b[0m\n\u001b[1;32m    347\u001b[0m         \u001b[0;32mif\u001b[0m \u001b[0mlen\u001b[0m\u001b[0;34m(\u001b[0m\u001b[0mself\u001b[0m\u001b[0;34m.\u001b[0m\u001b[0m_batch_times\u001b[0m\u001b[0;34m)\u001b[0m \u001b[0;34m>=\u001b[0m \u001b[0mself\u001b[0m\u001b[0;34m.\u001b[0m\u001b[0m_num_batches_for_timing_check\u001b[0m\u001b[0;34m:\u001b[0m\u001b[0;34m\u001b[0m\u001b[0;34m\u001b[0m\u001b[0m\n",
            "\u001b[0;32m/usr/local/lib/python3.10/dist-packages/keras/callbacks.py\u001b[0m in \u001b[0;36m_call_batch_hook_helper\u001b[0;34m(self, hook_name, batch, logs)\u001b[0m\n\u001b[1;32m    391\u001b[0m         \u001b[0;32mfor\u001b[0m \u001b[0mcallback\u001b[0m \u001b[0;32min\u001b[0m \u001b[0mself\u001b[0m\u001b[0;34m.\u001b[0m\u001b[0mcallbacks\u001b[0m\u001b[0;34m:\u001b[0m\u001b[0;34m\u001b[0m\u001b[0;34m\u001b[0m\u001b[0m\n\u001b[1;32m    392\u001b[0m             \u001b[0mhook\u001b[0m \u001b[0;34m=\u001b[0m \u001b[0mgetattr\u001b[0m\u001b[0;34m(\u001b[0m\u001b[0mcallback\u001b[0m\u001b[0;34m,\u001b[0m \u001b[0mhook_name\u001b[0m\u001b[0;34m)\u001b[0m\u001b[0;34m\u001b[0m\u001b[0;34m\u001b[0m\u001b[0m\n\u001b[0;32m--> 393\u001b[0;31m             \u001b[0mhook\u001b[0m\u001b[0;34m(\u001b[0m\u001b[0mbatch\u001b[0m\u001b[0;34m,\u001b[0m \u001b[0mlogs\u001b[0m\u001b[0;34m)\u001b[0m\u001b[0;34m\u001b[0m\u001b[0;34m\u001b[0m\u001b[0m\n\u001b[0m\u001b[1;32m    394\u001b[0m \u001b[0;34m\u001b[0m\u001b[0m\n\u001b[1;32m    395\u001b[0m         \u001b[0;32mif\u001b[0m \u001b[0mself\u001b[0m\u001b[0;34m.\u001b[0m\u001b[0m_check_timing\u001b[0m\u001b[0;34m:\u001b[0m\u001b[0;34m\u001b[0m\u001b[0;34m\u001b[0m\u001b[0m\n",
            "\u001b[0;32m/usr/local/lib/python3.10/dist-packages/keras/callbacks.py\u001b[0m in \u001b[0;36mon_train_batch_end\u001b[0;34m(self, batch, logs)\u001b[0m\n\u001b[1;32m   1091\u001b[0m \u001b[0;34m\u001b[0m\u001b[0m\n\u001b[1;32m   1092\u001b[0m     \u001b[0;32mdef\u001b[0m \u001b[0mon_train_batch_end\u001b[0m\u001b[0;34m(\u001b[0m\u001b[0mself\u001b[0m\u001b[0;34m,\u001b[0m \u001b[0mbatch\u001b[0m\u001b[0;34m,\u001b[0m \u001b[0mlogs\u001b[0m\u001b[0;34m=\u001b[0m\u001b[0;32mNone\u001b[0m\u001b[0;34m)\u001b[0m\u001b[0;34m:\u001b[0m\u001b[0;34m\u001b[0m\u001b[0;34m\u001b[0m\u001b[0m\n\u001b[0;32m-> 1093\u001b[0;31m         \u001b[0mself\u001b[0m\u001b[0;34m.\u001b[0m\u001b[0m_batch_update_progbar\u001b[0m\u001b[0;34m(\u001b[0m\u001b[0mbatch\u001b[0m\u001b[0;34m,\u001b[0m \u001b[0mlogs\u001b[0m\u001b[0;34m)\u001b[0m\u001b[0;34m\u001b[0m\u001b[0;34m\u001b[0m\u001b[0m\n\u001b[0m\u001b[1;32m   1094\u001b[0m \u001b[0;34m\u001b[0m\u001b[0m\n\u001b[1;32m   1095\u001b[0m     \u001b[0;32mdef\u001b[0m \u001b[0mon_test_batch_end\u001b[0m\u001b[0;34m(\u001b[0m\u001b[0mself\u001b[0m\u001b[0;34m,\u001b[0m \u001b[0mbatch\u001b[0m\u001b[0;34m,\u001b[0m \u001b[0mlogs\u001b[0m\u001b[0;34m=\u001b[0m\u001b[0;32mNone\u001b[0m\u001b[0;34m)\u001b[0m\u001b[0;34m:\u001b[0m\u001b[0;34m\u001b[0m\u001b[0;34m\u001b[0m\u001b[0m\n",
            "\u001b[0;32m/usr/local/lib/python3.10/dist-packages/keras/callbacks.py\u001b[0m in \u001b[0;36m_batch_update_progbar\u001b[0;34m(self, batch, logs)\u001b[0m\n\u001b[1;32m   1168\u001b[0m             \u001b[0;31m# Only block async when verbose = 1.\u001b[0m\u001b[0;34m\u001b[0m\u001b[0;34m\u001b[0m\u001b[0m\n\u001b[1;32m   1169\u001b[0m             \u001b[0mlogs\u001b[0m \u001b[0;34m=\u001b[0m \u001b[0mtf_utils\u001b[0m\u001b[0;34m.\u001b[0m\u001b[0msync_to_numpy_or_python_type\u001b[0m\u001b[0;34m(\u001b[0m\u001b[0mlogs\u001b[0m\u001b[0;34m)\u001b[0m\u001b[0;34m\u001b[0m\u001b[0;34m\u001b[0m\u001b[0m\n\u001b[0;32m-> 1170\u001b[0;31m             \u001b[0mself\u001b[0m\u001b[0;34m.\u001b[0m\u001b[0mprogbar\u001b[0m\u001b[0;34m.\u001b[0m\u001b[0mupdate\u001b[0m\u001b[0;34m(\u001b[0m\u001b[0mself\u001b[0m\u001b[0;34m.\u001b[0m\u001b[0mseen\u001b[0m\u001b[0;34m,\u001b[0m \u001b[0mlist\u001b[0m\u001b[0;34m(\u001b[0m\u001b[0mlogs\u001b[0m\u001b[0;34m.\u001b[0m\u001b[0mitems\u001b[0m\u001b[0;34m(\u001b[0m\u001b[0;34m)\u001b[0m\u001b[0;34m)\u001b[0m\u001b[0;34m,\u001b[0m \u001b[0mfinalize\u001b[0m\u001b[0;34m=\u001b[0m\u001b[0;32mFalse\u001b[0m\u001b[0;34m)\u001b[0m\u001b[0;34m\u001b[0m\u001b[0;34m\u001b[0m\u001b[0m\n\u001b[0m\u001b[1;32m   1171\u001b[0m \u001b[0;34m\u001b[0m\u001b[0m\n\u001b[1;32m   1172\u001b[0m     \u001b[0;32mdef\u001b[0m \u001b[0m_finalize_progbar\u001b[0m\u001b[0;34m(\u001b[0m\u001b[0mself\u001b[0m\u001b[0;34m,\u001b[0m \u001b[0mlogs\u001b[0m\u001b[0;34m,\u001b[0m \u001b[0mcounter\u001b[0m\u001b[0;34m)\u001b[0m\u001b[0;34m:\u001b[0m\u001b[0;34m\u001b[0m\u001b[0;34m\u001b[0m\u001b[0m\n",
            "\u001b[0;32m/usr/local/lib/python3.10/dist-packages/keras/utils/generic_utils.py\u001b[0m in \u001b[0;36mupdate\u001b[0;34m(self, current, values, finalize)\u001b[0m\n\u001b[1;32m    294\u001b[0m \u001b[0;34m\u001b[0m\u001b[0m\n\u001b[1;32m    295\u001b[0m             \u001b[0mmessage\u001b[0m \u001b[0;34m+=\u001b[0m \u001b[0minfo\u001b[0m\u001b[0;34m\u001b[0m\u001b[0;34m\u001b[0m\u001b[0m\n\u001b[0;32m--> 296\u001b[0;31m             \u001b[0mio_utils\u001b[0m\u001b[0;34m.\u001b[0m\u001b[0mprint_msg\u001b[0m\u001b[0;34m(\u001b[0m\u001b[0mmessage\u001b[0m\u001b[0;34m,\u001b[0m \u001b[0mline_break\u001b[0m\u001b[0;34m=\u001b[0m\u001b[0;32mFalse\u001b[0m\u001b[0;34m)\u001b[0m\u001b[0;34m\u001b[0m\u001b[0;34m\u001b[0m\u001b[0m\n\u001b[0m\u001b[1;32m    297\u001b[0m             \u001b[0mmessage\u001b[0m \u001b[0;34m=\u001b[0m \u001b[0;34m\"\"\u001b[0m\u001b[0;34m\u001b[0m\u001b[0;34m\u001b[0m\u001b[0m\n\u001b[1;32m    298\u001b[0m \u001b[0;34m\u001b[0m\u001b[0m\n",
            "\u001b[0;32m/usr/local/lib/python3.10/dist-packages/keras/utils/io_utils.py\u001b[0m in \u001b[0;36mprint_msg\u001b[0;34m(message, line_break)\u001b[0m\n\u001b[1;32m     77\u001b[0m             \u001b[0msys\u001b[0m\u001b[0;34m.\u001b[0m\u001b[0mstdout\u001b[0m\u001b[0;34m.\u001b[0m\u001b[0mwrite\u001b[0m\u001b[0;34m(\u001b[0m\u001b[0mmessage\u001b[0m \u001b[0;34m+\u001b[0m \u001b[0;34m\"\\n\"\u001b[0m\u001b[0;34m)\u001b[0m\u001b[0;34m\u001b[0m\u001b[0;34m\u001b[0m\u001b[0m\n\u001b[1;32m     78\u001b[0m         \u001b[0;32melse\u001b[0m\u001b[0;34m:\u001b[0m\u001b[0;34m\u001b[0m\u001b[0;34m\u001b[0m\u001b[0m\n\u001b[0;32m---> 79\u001b[0;31m             \u001b[0msys\u001b[0m\u001b[0;34m.\u001b[0m\u001b[0mstdout\u001b[0m\u001b[0;34m.\u001b[0m\u001b[0mwrite\u001b[0m\u001b[0;34m(\u001b[0m\u001b[0mmessage\u001b[0m\u001b[0;34m)\u001b[0m\u001b[0;34m\u001b[0m\u001b[0;34m\u001b[0m\u001b[0m\n\u001b[0m\u001b[1;32m     80\u001b[0m         \u001b[0msys\u001b[0m\u001b[0;34m.\u001b[0m\u001b[0mstdout\u001b[0m\u001b[0;34m.\u001b[0m\u001b[0mflush\u001b[0m\u001b[0;34m(\u001b[0m\u001b[0;34m)\u001b[0m\u001b[0;34m\u001b[0m\u001b[0;34m\u001b[0m\u001b[0m\n\u001b[1;32m     81\u001b[0m     \u001b[0;32melse\u001b[0m\u001b[0;34m:\u001b[0m\u001b[0;34m\u001b[0m\u001b[0;34m\u001b[0m\u001b[0m\n",
            "\u001b[0;32m/usr/local/lib/python3.10/dist-packages/ipykernel/iostream.py\u001b[0m in \u001b[0;36mwrite\u001b[0;34m(self, string)\u001b[0m\n\u001b[1;32m    400\u001b[0m             \u001b[0mis_child\u001b[0m \u001b[0;34m=\u001b[0m \u001b[0;34m(\u001b[0m\u001b[0;32mnot\u001b[0m \u001b[0mself\u001b[0m\u001b[0;34m.\u001b[0m\u001b[0m_is_master_process\u001b[0m\u001b[0;34m(\u001b[0m\u001b[0;34m)\u001b[0m\u001b[0;34m)\u001b[0m\u001b[0;34m\u001b[0m\u001b[0;34m\u001b[0m\u001b[0m\n\u001b[1;32m    401\u001b[0m             \u001b[0;31m# only touch the buffer in the IO thread to avoid races\u001b[0m\u001b[0;34m\u001b[0m\u001b[0;34m\u001b[0m\u001b[0m\n\u001b[0;32m--> 402\u001b[0;31m             \u001b[0mself\u001b[0m\u001b[0;34m.\u001b[0m\u001b[0mpub_thread\u001b[0m\u001b[0;34m.\u001b[0m\u001b[0mschedule\u001b[0m\u001b[0;34m(\u001b[0m\u001b[0;32mlambda\u001b[0m \u001b[0;34m:\u001b[0m \u001b[0mself\u001b[0m\u001b[0;34m.\u001b[0m\u001b[0m_buffer\u001b[0m\u001b[0;34m.\u001b[0m\u001b[0mwrite\u001b[0m\u001b[0;34m(\u001b[0m\u001b[0mstring\u001b[0m\u001b[0;34m)\u001b[0m\u001b[0;34m)\u001b[0m\u001b[0;34m\u001b[0m\u001b[0;34m\u001b[0m\u001b[0m\n\u001b[0m\u001b[1;32m    403\u001b[0m             \u001b[0;32mif\u001b[0m \u001b[0mis_child\u001b[0m\u001b[0;34m:\u001b[0m\u001b[0;34m\u001b[0m\u001b[0;34m\u001b[0m\u001b[0m\n\u001b[1;32m    404\u001b[0m                 \u001b[0;31m# mp.Pool cannot be trusted to flush promptly (or ever),\u001b[0m\u001b[0;34m\u001b[0m\u001b[0;34m\u001b[0m\u001b[0m\n",
            "\u001b[0;32m/usr/local/lib/python3.10/dist-packages/ipykernel/iostream.py\u001b[0m in \u001b[0;36mschedule\u001b[0;34m(self, f)\u001b[0m\n\u001b[1;32m    201\u001b[0m             \u001b[0mself\u001b[0m\u001b[0;34m.\u001b[0m\u001b[0m_events\u001b[0m\u001b[0;34m.\u001b[0m\u001b[0mappend\u001b[0m\u001b[0;34m(\u001b[0m\u001b[0mf\u001b[0m\u001b[0;34m)\u001b[0m\u001b[0;34m\u001b[0m\u001b[0;34m\u001b[0m\u001b[0m\n\u001b[1;32m    202\u001b[0m             \u001b[0;31m# wake event thread (message content is ignored)\u001b[0m\u001b[0;34m\u001b[0m\u001b[0;34m\u001b[0m\u001b[0m\n\u001b[0;32m--> 203\u001b[0;31m             \u001b[0mself\u001b[0m\u001b[0;34m.\u001b[0m\u001b[0m_event_pipe\u001b[0m\u001b[0;34m.\u001b[0m\u001b[0msend\u001b[0m\u001b[0;34m(\u001b[0m\u001b[0;34mb''\u001b[0m\u001b[0;34m)\u001b[0m\u001b[0;34m\u001b[0m\u001b[0;34m\u001b[0m\u001b[0m\n\u001b[0m\u001b[1;32m    204\u001b[0m         \u001b[0;32melse\u001b[0m\u001b[0;34m:\u001b[0m\u001b[0;34m\u001b[0m\u001b[0;34m\u001b[0m\u001b[0m\n\u001b[1;32m    205\u001b[0m             \u001b[0mf\u001b[0m\u001b[0;34m(\u001b[0m\u001b[0;34m)\u001b[0m\u001b[0;34m\u001b[0m\u001b[0;34m\u001b[0m\u001b[0m\n",
            "\u001b[0;32m/usr/local/lib/python3.10/dist-packages/zmq/sugar/socket.py\u001b[0m in \u001b[0;36msend\u001b[0;34m(self, data, flags, copy, track, routing_id, group)\u001b[0m\n\u001b[1;32m    616\u001b[0m                 )\n\u001b[1;32m    617\u001b[0m             \u001b[0mdata\u001b[0m\u001b[0;34m.\u001b[0m\u001b[0mgroup\u001b[0m \u001b[0;34m=\u001b[0m \u001b[0mgroup\u001b[0m\u001b[0;34m\u001b[0m\u001b[0;34m\u001b[0m\u001b[0m\n\u001b[0;32m--> 618\u001b[0;31m         \u001b[0;32mreturn\u001b[0m \u001b[0msuper\u001b[0m\u001b[0;34m(\u001b[0m\u001b[0;34m)\u001b[0m\u001b[0;34m.\u001b[0m\u001b[0msend\u001b[0m\u001b[0;34m(\u001b[0m\u001b[0mdata\u001b[0m\u001b[0;34m,\u001b[0m \u001b[0mflags\u001b[0m\u001b[0;34m=\u001b[0m\u001b[0mflags\u001b[0m\u001b[0;34m,\u001b[0m \u001b[0mcopy\u001b[0m\u001b[0;34m=\u001b[0m\u001b[0mcopy\u001b[0m\u001b[0;34m,\u001b[0m \u001b[0mtrack\u001b[0m\u001b[0;34m=\u001b[0m\u001b[0mtrack\u001b[0m\u001b[0;34m)\u001b[0m\u001b[0;34m\u001b[0m\u001b[0;34m\u001b[0m\u001b[0m\n\u001b[0m\u001b[1;32m    619\u001b[0m \u001b[0;34m\u001b[0m\u001b[0m\n\u001b[1;32m    620\u001b[0m     def send_multipart(\n",
            "\u001b[0;32mzmq/backend/cython/socket.pyx\u001b[0m in \u001b[0;36mzmq.backend.cython.socket.Socket.send\u001b[0;34m()\u001b[0m\n",
            "\u001b[0;32mzmq/backend/cython/socket.pyx\u001b[0m in \u001b[0;36mzmq.backend.cython.socket.Socket.send\u001b[0;34m()\u001b[0m\n",
            "\u001b[0;32mzmq/backend/cython/socket.pyx\u001b[0m in \u001b[0;36mzmq.backend.cython.socket._send_copy\u001b[0;34m()\u001b[0m\n",
            "\u001b[0;32m/usr/local/lib/python3.10/dist-packages/zmq/backend/cython/checkrc.pxd\u001b[0m in \u001b[0;36mzmq.backend.cython.checkrc._check_rc\u001b[0;34m()\u001b[0m\n",
            "\u001b[0;31mKeyboardInterrupt\u001b[0m: "
          ]
        }
      ],
      "source": [
        "\n",
        "# fit model\n",
        "model.fit(X_train, train['House overall [kW]'].values, epochs=10, batch_size=1, verbose=1, steps_per_epoch=50000)"
      ]
    },
    {
      "cell_type": "code",
      "execution_count": null,
      "metadata": {
        "id": "fnhP39BUn0nI"
      },
      "outputs": [],
      "source": [
        "\n",
        "# make predictions\n",
        "train_predict = model.predict(X_train)\n",
        "test_predict = model.predict(X_test)"
      ]
    },
    {
      "cell_type": "code",
      "execution_count": null,
      "metadata": {
        "id": "UOzQq2NQpc4g"
      },
      "outputs": [],
      "source": [
        "y_train = train['House overall [kW]'].values\n",
        "y_test = test['House overall [kW]'].values\n",
        "\n",
        "# calculate rmse\n",
        "train_rmse = np.sqrt(mean_squared_error(y_train, train_predict))\n",
        "test_rmse = np.sqrt(mean_squared_error(y_test, test_predict))"
      ]
    },
    {
      "cell_type": "code",
      "execution_count": null,
      "metadata": {
        "id": "N3L7uTpmpr4R"
      },
      "outputs": [],
      "source": [
        "\n",
        "print('Train RMSE: ', train_rmse)\n",
        "print('Test RMSE: ', test_rmse)\n"
      ]
    },
    {
      "cell_type": "code",
      "execution_count": null,
      "metadata": {
        "id": "yG61w_sUqNDw"
      },
      "outputs": [],
      "source": [
        "# calculate mae\n",
        "train_mae = mean_absolute_error(y_train, train_predict)\n",
        "test_mae = mean_absolute_error(y_test, test_predict)\n",
        "\n",
        "print('Train MAE: ', train_mae)\n",
        "print('Test MAE: ', test_mae)\n"
      ]
    },
    {
      "cell_type": "code",
      "execution_count": null,
      "metadata": {
        "id": "jXZr4lvbqX3Z"
      },
      "outputs": [],
      "source": [
        "from sklearn.metrics import r2_score\n",
        "\n",
        "# calculate r2 score\n",
        "train_r2 = r2_score(y_train, train_predict)\n",
        "test_r2 = r2_score(y_test, test_predict)\n",
        "\n",
        "print('Train R2: ', train_r2)\n",
        "print('Test R2: ', test_r2)"
      ]
    },
    {
      "cell_type": "code",
      "execution_count": null,
      "metadata": {
        "id": "jaAnnPU3qe8n"
      },
      "outputs": [],
      "source": [
        "# plot data\n",
        "plt.figure(figsize=(20, 10))\n",
        "plt.plot(dataset['Date & Time'], dataset['House overall [kW]'], label='Actual')\n",
        "plt.plot(dataset['Date & Time'], dataset['House overall [kW]'], label='Predicted')\n",
        "plt.xlabel('Date & Time')\n",
        "plt.ylabel('House overall [kW]')\n",
        "plt.title('House overall [kW] vs Date & Time')\n",
        "plt.legend()\n",
        "plt.show()"
      ]
    },
    {
      "cell_type": "code",
      "execution_count": null,
      "metadata": {
        "id": "8uLzbXGuqpw7"
      },
      "outputs": [],
      "source": [
        "\n",
        "# save model\n",
        "model.save('model.h5')\n"
      ]
    }
  ],
  "metadata": {
    "colab": {
      "provenance": []
    },
    "kernelspec": {
      "display_name": "Python 3",
      "name": "python3"
    },
    "language_info": {
      "name": "python"
    }
  },
  "nbformat": 4,
  "nbformat_minor": 0
}
